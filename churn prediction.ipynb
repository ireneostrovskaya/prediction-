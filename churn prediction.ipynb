{
 "cells": [
  {
   "cell_type": "code",
   "execution_count": 1,
   "metadata": {},
   "outputs": [],
   "source": [
    "import pandas as pd \n",
    "import math as mth\n",
    "from scipy import stats as st\n",
    "import numpy as np\n",
    "import matplotlib as mpl\n",
    "import matplotlib.pyplot as plt\n",
    "import seaborn as sns\n",
    "from sklearn.model_selection import train_test_split\n",
    "from sklearn.ensemble import RandomForestClassifier\n",
    "from sklearn.linear_model import LogisticRegression\n",
    "from sklearn.metrics import accuracy_score, precision_score, recall_score, f1_score\n",
    "from sklearn.preprocessing import StandardScaler\n",
    "from scipy.cluster.hierarchy import dendrogram, linkage "
   ]
  },
  {
   "cell_type": "markdown",
   "metadata": {},
   "source": [
    "### STEP  Download the data"
   ]
  },
  {
   "cell_type": "code",
   "execution_count": 2,
   "metadata": {},
   "outputs": [
    {
     "data": {
      "text/html": [
       "<div>\n",
       "<style scoped>\n",
       "    .dataframe tbody tr th:only-of-type {\n",
       "        vertical-align: middle;\n",
       "    }\n",
       "\n",
       "    .dataframe tbody tr th {\n",
       "        vertical-align: top;\n",
       "    }\n",
       "\n",
       "    .dataframe thead th {\n",
       "        text-align: right;\n",
       "    }\n",
       "</style>\n",
       "<table border=\"1\" class=\"dataframe\">\n",
       "  <thead>\n",
       "    <tr style=\"text-align: right;\">\n",
       "      <th></th>\n",
       "      <th>gender</th>\n",
       "      <th>Near_Location</th>\n",
       "      <th>Partner</th>\n",
       "      <th>Promo_friends</th>\n",
       "      <th>Phone</th>\n",
       "      <th>Contract_period</th>\n",
       "      <th>Group_visits</th>\n",
       "      <th>Age</th>\n",
       "      <th>Avg_additional_charges_total</th>\n",
       "      <th>Month_to_end_contract</th>\n",
       "      <th>Lifetime</th>\n",
       "      <th>Avg_class_frequency_total</th>\n",
       "      <th>Avg_class_frequency_current_month</th>\n",
       "      <th>Churn</th>\n",
       "    </tr>\n",
       "  </thead>\n",
       "  <tbody>\n",
       "    <tr>\n",
       "      <th>0</th>\n",
       "      <td>1</td>\n",
       "      <td>1</td>\n",
       "      <td>1</td>\n",
       "      <td>1</td>\n",
       "      <td>0</td>\n",
       "      <td>6</td>\n",
       "      <td>1</td>\n",
       "      <td>29</td>\n",
       "      <td>14.227470</td>\n",
       "      <td>5.0</td>\n",
       "      <td>3</td>\n",
       "      <td>0.020398</td>\n",
       "      <td>0.000000</td>\n",
       "      <td>0</td>\n",
       "    </tr>\n",
       "    <tr>\n",
       "      <th>1</th>\n",
       "      <td>0</td>\n",
       "      <td>1</td>\n",
       "      <td>0</td>\n",
       "      <td>0</td>\n",
       "      <td>1</td>\n",
       "      <td>12</td>\n",
       "      <td>1</td>\n",
       "      <td>31</td>\n",
       "      <td>113.202938</td>\n",
       "      <td>12.0</td>\n",
       "      <td>7</td>\n",
       "      <td>1.922936</td>\n",
       "      <td>1.910244</td>\n",
       "      <td>0</td>\n",
       "    </tr>\n",
       "    <tr>\n",
       "      <th>2</th>\n",
       "      <td>0</td>\n",
       "      <td>1</td>\n",
       "      <td>1</td>\n",
       "      <td>0</td>\n",
       "      <td>1</td>\n",
       "      <td>1</td>\n",
       "      <td>0</td>\n",
       "      <td>28</td>\n",
       "      <td>129.448479</td>\n",
       "      <td>1.0</td>\n",
       "      <td>2</td>\n",
       "      <td>1.859098</td>\n",
       "      <td>1.736502</td>\n",
       "      <td>0</td>\n",
       "    </tr>\n",
       "    <tr>\n",
       "      <th>3</th>\n",
       "      <td>0</td>\n",
       "      <td>1</td>\n",
       "      <td>1</td>\n",
       "      <td>1</td>\n",
       "      <td>1</td>\n",
       "      <td>12</td>\n",
       "      <td>1</td>\n",
       "      <td>33</td>\n",
       "      <td>62.669863</td>\n",
       "      <td>12.0</td>\n",
       "      <td>2</td>\n",
       "      <td>3.205633</td>\n",
       "      <td>3.357215</td>\n",
       "      <td>0</td>\n",
       "    </tr>\n",
       "    <tr>\n",
       "      <th>4</th>\n",
       "      <td>1</td>\n",
       "      <td>1</td>\n",
       "      <td>1</td>\n",
       "      <td>1</td>\n",
       "      <td>1</td>\n",
       "      <td>1</td>\n",
       "      <td>0</td>\n",
       "      <td>26</td>\n",
       "      <td>198.362265</td>\n",
       "      <td>1.0</td>\n",
       "      <td>3</td>\n",
       "      <td>1.113884</td>\n",
       "      <td>1.120078</td>\n",
       "      <td>0</td>\n",
       "    </tr>\n",
       "    <tr>\n",
       "      <th>5</th>\n",
       "      <td>1</td>\n",
       "      <td>1</td>\n",
       "      <td>0</td>\n",
       "      <td>0</td>\n",
       "      <td>1</td>\n",
       "      <td>1</td>\n",
       "      <td>1</td>\n",
       "      <td>34</td>\n",
       "      <td>450.743960</td>\n",
       "      <td>1.0</td>\n",
       "      <td>3</td>\n",
       "      <td>2.623477</td>\n",
       "      <td>2.637007</td>\n",
       "      <td>0</td>\n",
       "    </tr>\n",
       "    <tr>\n",
       "      <th>6</th>\n",
       "      <td>1</td>\n",
       "      <td>1</td>\n",
       "      <td>1</td>\n",
       "      <td>1</td>\n",
       "      <td>0</td>\n",
       "      <td>6</td>\n",
       "      <td>1</td>\n",
       "      <td>32</td>\n",
       "      <td>94.266389</td>\n",
       "      <td>6.0</td>\n",
       "      <td>2</td>\n",
       "      <td>1.138941</td>\n",
       "      <td>1.277242</td>\n",
       "      <td>0</td>\n",
       "    </tr>\n",
       "    <tr>\n",
       "      <th>7</th>\n",
       "      <td>0</td>\n",
       "      <td>1</td>\n",
       "      <td>0</td>\n",
       "      <td>0</td>\n",
       "      <td>1</td>\n",
       "      <td>1</td>\n",
       "      <td>0</td>\n",
       "      <td>30</td>\n",
       "      <td>217.786641</td>\n",
       "      <td>1.0</td>\n",
       "      <td>0</td>\n",
       "      <td>1.213502</td>\n",
       "      <td>1.049387</td>\n",
       "      <td>1</td>\n",
       "    </tr>\n",
       "    <tr>\n",
       "      <th>8</th>\n",
       "      <td>1</td>\n",
       "      <td>1</td>\n",
       "      <td>1</td>\n",
       "      <td>1</td>\n",
       "      <td>1</td>\n",
       "      <td>1</td>\n",
       "      <td>1</td>\n",
       "      <td>23</td>\n",
       "      <td>45.409909</td>\n",
       "      <td>1.0</td>\n",
       "      <td>1</td>\n",
       "      <td>1.106239</td>\n",
       "      <td>1.059333</td>\n",
       "      <td>0</td>\n",
       "    </tr>\n",
       "    <tr>\n",
       "      <th>9</th>\n",
       "      <td>0</td>\n",
       "      <td>1</td>\n",
       "      <td>0</td>\n",
       "      <td>0</td>\n",
       "      <td>1</td>\n",
       "      <td>1</td>\n",
       "      <td>0</td>\n",
       "      <td>31</td>\n",
       "      <td>65.310836</td>\n",
       "      <td>1.0</td>\n",
       "      <td>11</td>\n",
       "      <td>1.810852</td>\n",
       "      <td>1.951368</td>\n",
       "      <td>0</td>\n",
       "    </tr>\n",
       "  </tbody>\n",
       "</table>\n",
       "</div>"
      ],
      "text/plain": [
       "   gender  Near_Location  Partner  Promo_friends  Phone  Contract_period  \\\n",
       "0       1              1        1              1      0                6   \n",
       "1       0              1        0              0      1               12   \n",
       "2       0              1        1              0      1                1   \n",
       "3       0              1        1              1      1               12   \n",
       "4       1              1        1              1      1                1   \n",
       "5       1              1        0              0      1                1   \n",
       "6       1              1        1              1      0                6   \n",
       "7       0              1        0              0      1                1   \n",
       "8       1              1        1              1      1                1   \n",
       "9       0              1        0              0      1                1   \n",
       "\n",
       "   Group_visits  Age  Avg_additional_charges_total  Month_to_end_contract  \\\n",
       "0             1   29                     14.227470                    5.0   \n",
       "1             1   31                    113.202938                   12.0   \n",
       "2             0   28                    129.448479                    1.0   \n",
       "3             1   33                     62.669863                   12.0   \n",
       "4             0   26                    198.362265                    1.0   \n",
       "5             1   34                    450.743960                    1.0   \n",
       "6             1   32                     94.266389                    6.0   \n",
       "7             0   30                    217.786641                    1.0   \n",
       "8             1   23                     45.409909                    1.0   \n",
       "9             0   31                     65.310836                    1.0   \n",
       "\n",
       "   Lifetime  Avg_class_frequency_total  Avg_class_frequency_current_month  \\\n",
       "0         3                   0.020398                           0.000000   \n",
       "1         7                   1.922936                           1.910244   \n",
       "2         2                   1.859098                           1.736502   \n",
       "3         2                   3.205633                           3.357215   \n",
       "4         3                   1.113884                           1.120078   \n",
       "5         3                   2.623477                           2.637007   \n",
       "6         2                   1.138941                           1.277242   \n",
       "7         0                   1.213502                           1.049387   \n",
       "8         1                   1.106239                           1.059333   \n",
       "9        11                   1.810852                           1.951368   \n",
       "\n",
       "   Churn  \n",
       "0      0  \n",
       "1      0  \n",
       "2      0  \n",
       "3      0  \n",
       "4      0  \n",
       "5      0  \n",
       "6      0  \n",
       "7      1  \n",
       "8      0  \n",
       "9      0  "
      ]
     },
     "execution_count": 2,
     "metadata": {},
     "output_type": "execute_result"
    }
   ],
   "source": [
    "try:\n",
    "    gym=pd.read_csv('/datasets/gym_churn_us.csv')\n",
    "except IOError as e:\n",
    "    print(e)\n",
    "gym.head(10)"
   ]
  },
  {
   "cell_type": "markdown",
   "metadata": {},
   "source": [
    "### Step . Exploratory data analysis (EDA)"
   ]
  },
  {
   "cell_type": "code",
   "execution_count": 3,
   "metadata": {},
   "outputs": [
    {
     "name": "stdout",
     "output_type": "stream",
     "text": [
      "<class 'pandas.core.frame.DataFrame'>\n",
      "RangeIndex: 4000 entries, 0 to 3999\n",
      "Data columns (total 14 columns):\n",
      " #   Column                             Non-Null Count  Dtype  \n",
      "---  ------                             --------------  -----  \n",
      " 0   gender                             4000 non-null   int64  \n",
      " 1   Near_Location                      4000 non-null   int64  \n",
      " 2   Partner                            4000 non-null   int64  \n",
      " 3   Promo_friends                      4000 non-null   int64  \n",
      " 4   Phone                              4000 non-null   int64  \n",
      " 5   Contract_period                    4000 non-null   int64  \n",
      " 6   Group_visits                       4000 non-null   int64  \n",
      " 7   Age                                4000 non-null   int64  \n",
      " 8   Avg_additional_charges_total       4000 non-null   float64\n",
      " 9   Month_to_end_contract              4000 non-null   float64\n",
      " 10  Lifetime                           4000 non-null   int64  \n",
      " 11  Avg_class_frequency_total          4000 non-null   float64\n",
      " 12  Avg_class_frequency_current_month  4000 non-null   float64\n",
      " 13  Churn                              4000 non-null   int64  \n",
      "dtypes: float64(4), int64(10)\n",
      "memory usage: 437.6 KB\n"
     ]
    }
   ],
   "source": [
    "gym.info()"
   ]
  },
  {
   "cell_type": "markdown",
   "metadata": {},
   "source": [
    "We have a database containing 13 columns. There are no missing values as we see, we have 4000 rows. There is information about the user , his gender,age, phone,etc and the data on  visits and purchases."
   ]
  },
  {
   "cell_type": "code",
   "execution_count": 4,
   "metadata": {},
   "outputs": [
    {
     "data": {
      "text/html": [
       "<div>\n",
       "<style scoped>\n",
       "    .dataframe tbody tr th:only-of-type {\n",
       "        vertical-align: middle;\n",
       "    }\n",
       "\n",
       "    .dataframe tbody tr th {\n",
       "        vertical-align: top;\n",
       "    }\n",
       "\n",
       "    .dataframe thead th {\n",
       "        text-align: right;\n",
       "    }\n",
       "</style>\n",
       "<table border=\"1\" class=\"dataframe\">\n",
       "  <thead>\n",
       "    <tr style=\"text-align: right;\">\n",
       "      <th></th>\n",
       "      <th>gender</th>\n",
       "      <th>Near_Location</th>\n",
       "      <th>Partner</th>\n",
       "      <th>Promo_friends</th>\n",
       "      <th>Phone</th>\n",
       "      <th>Contract_period</th>\n",
       "      <th>Group_visits</th>\n",
       "      <th>Age</th>\n",
       "      <th>Avg_additional_charges_total</th>\n",
       "      <th>Month_to_end_contract</th>\n",
       "      <th>Lifetime</th>\n",
       "      <th>Avg_class_frequency_total</th>\n",
       "      <th>Avg_class_frequency_current_month</th>\n",
       "      <th>Churn</th>\n",
       "    </tr>\n",
       "  </thead>\n",
       "  <tbody>\n",
       "    <tr>\n",
       "      <th>count</th>\n",
       "      <td>4000.000000</td>\n",
       "      <td>4000.000000</td>\n",
       "      <td>4000.000000</td>\n",
       "      <td>4000.000000</td>\n",
       "      <td>4000.000000</td>\n",
       "      <td>4000.000000</td>\n",
       "      <td>4000.000000</td>\n",
       "      <td>4000.000000</td>\n",
       "      <td>4000.000000</td>\n",
       "      <td>4000.000000</td>\n",
       "      <td>4000.000000</td>\n",
       "      <td>4000.000000</td>\n",
       "      <td>4000.000000</td>\n",
       "      <td>4000.000000</td>\n",
       "    </tr>\n",
       "    <tr>\n",
       "      <th>mean</th>\n",
       "      <td>0.510250</td>\n",
       "      <td>0.845250</td>\n",
       "      <td>0.486750</td>\n",
       "      <td>0.308500</td>\n",
       "      <td>0.903500</td>\n",
       "      <td>4.681250</td>\n",
       "      <td>0.412250</td>\n",
       "      <td>29.184250</td>\n",
       "      <td>146.943728</td>\n",
       "      <td>4.322750</td>\n",
       "      <td>3.724750</td>\n",
       "      <td>1.879020</td>\n",
       "      <td>1.767052</td>\n",
       "      <td>0.265250</td>\n",
       "    </tr>\n",
       "    <tr>\n",
       "      <th>std</th>\n",
       "      <td>0.499957</td>\n",
       "      <td>0.361711</td>\n",
       "      <td>0.499887</td>\n",
       "      <td>0.461932</td>\n",
       "      <td>0.295313</td>\n",
       "      <td>4.549706</td>\n",
       "      <td>0.492301</td>\n",
       "      <td>3.258367</td>\n",
       "      <td>96.355602</td>\n",
       "      <td>4.191297</td>\n",
       "      <td>3.749267</td>\n",
       "      <td>0.972245</td>\n",
       "      <td>1.052906</td>\n",
       "      <td>0.441521</td>\n",
       "    </tr>\n",
       "    <tr>\n",
       "      <th>min</th>\n",
       "      <td>0.000000</td>\n",
       "      <td>0.000000</td>\n",
       "      <td>0.000000</td>\n",
       "      <td>0.000000</td>\n",
       "      <td>0.000000</td>\n",
       "      <td>1.000000</td>\n",
       "      <td>0.000000</td>\n",
       "      <td>18.000000</td>\n",
       "      <td>0.148205</td>\n",
       "      <td>1.000000</td>\n",
       "      <td>0.000000</td>\n",
       "      <td>0.000000</td>\n",
       "      <td>0.000000</td>\n",
       "      <td>0.000000</td>\n",
       "    </tr>\n",
       "    <tr>\n",
       "      <th>25%</th>\n",
       "      <td>0.000000</td>\n",
       "      <td>1.000000</td>\n",
       "      <td>0.000000</td>\n",
       "      <td>0.000000</td>\n",
       "      <td>1.000000</td>\n",
       "      <td>1.000000</td>\n",
       "      <td>0.000000</td>\n",
       "      <td>27.000000</td>\n",
       "      <td>68.868830</td>\n",
       "      <td>1.000000</td>\n",
       "      <td>1.000000</td>\n",
       "      <td>1.180875</td>\n",
       "      <td>0.963003</td>\n",
       "      <td>0.000000</td>\n",
       "    </tr>\n",
       "    <tr>\n",
       "      <th>50%</th>\n",
       "      <td>1.000000</td>\n",
       "      <td>1.000000</td>\n",
       "      <td>0.000000</td>\n",
       "      <td>0.000000</td>\n",
       "      <td>1.000000</td>\n",
       "      <td>1.000000</td>\n",
       "      <td>0.000000</td>\n",
       "      <td>29.000000</td>\n",
       "      <td>136.220159</td>\n",
       "      <td>1.000000</td>\n",
       "      <td>3.000000</td>\n",
       "      <td>1.832768</td>\n",
       "      <td>1.719574</td>\n",
       "      <td>0.000000</td>\n",
       "    </tr>\n",
       "    <tr>\n",
       "      <th>75%</th>\n",
       "      <td>1.000000</td>\n",
       "      <td>1.000000</td>\n",
       "      <td>1.000000</td>\n",
       "      <td>1.000000</td>\n",
       "      <td>1.000000</td>\n",
       "      <td>6.000000</td>\n",
       "      <td>1.000000</td>\n",
       "      <td>31.000000</td>\n",
       "      <td>210.949625</td>\n",
       "      <td>6.000000</td>\n",
       "      <td>5.000000</td>\n",
       "      <td>2.536078</td>\n",
       "      <td>2.510336</td>\n",
       "      <td>1.000000</td>\n",
       "    </tr>\n",
       "    <tr>\n",
       "      <th>max</th>\n",
       "      <td>1.000000</td>\n",
       "      <td>1.000000</td>\n",
       "      <td>1.000000</td>\n",
       "      <td>1.000000</td>\n",
       "      <td>1.000000</td>\n",
       "      <td>12.000000</td>\n",
       "      <td>1.000000</td>\n",
       "      <td>41.000000</td>\n",
       "      <td>552.590740</td>\n",
       "      <td>12.000000</td>\n",
       "      <td>31.000000</td>\n",
       "      <td>6.023668</td>\n",
       "      <td>6.146783</td>\n",
       "      <td>1.000000</td>\n",
       "    </tr>\n",
       "  </tbody>\n",
       "</table>\n",
       "</div>"
      ],
      "text/plain": [
       "            gender  Near_Location      Partner  Promo_friends        Phone  \\\n",
       "count  4000.000000    4000.000000  4000.000000    4000.000000  4000.000000   \n",
       "mean      0.510250       0.845250     0.486750       0.308500     0.903500   \n",
       "std       0.499957       0.361711     0.499887       0.461932     0.295313   \n",
       "min       0.000000       0.000000     0.000000       0.000000     0.000000   \n",
       "25%       0.000000       1.000000     0.000000       0.000000     1.000000   \n",
       "50%       1.000000       1.000000     0.000000       0.000000     1.000000   \n",
       "75%       1.000000       1.000000     1.000000       1.000000     1.000000   \n",
       "max       1.000000       1.000000     1.000000       1.000000     1.000000   \n",
       "\n",
       "       Contract_period  Group_visits          Age  \\\n",
       "count      4000.000000   4000.000000  4000.000000   \n",
       "mean          4.681250      0.412250    29.184250   \n",
       "std           4.549706      0.492301     3.258367   \n",
       "min           1.000000      0.000000    18.000000   \n",
       "25%           1.000000      0.000000    27.000000   \n",
       "50%           1.000000      0.000000    29.000000   \n",
       "75%           6.000000      1.000000    31.000000   \n",
       "max          12.000000      1.000000    41.000000   \n",
       "\n",
       "       Avg_additional_charges_total  Month_to_end_contract     Lifetime  \\\n",
       "count                   4000.000000            4000.000000  4000.000000   \n",
       "mean                     146.943728               4.322750     3.724750   \n",
       "std                       96.355602               4.191297     3.749267   \n",
       "min                        0.148205               1.000000     0.000000   \n",
       "25%                       68.868830               1.000000     1.000000   \n",
       "50%                      136.220159               1.000000     3.000000   \n",
       "75%                      210.949625               6.000000     5.000000   \n",
       "max                      552.590740              12.000000    31.000000   \n",
       "\n",
       "       Avg_class_frequency_total  Avg_class_frequency_current_month  \\\n",
       "count                4000.000000                        4000.000000   \n",
       "mean                    1.879020                           1.767052   \n",
       "std                     0.972245                           1.052906   \n",
       "min                     0.000000                           0.000000   \n",
       "25%                     1.180875                           0.963003   \n",
       "50%                     1.832768                           1.719574   \n",
       "75%                     2.536078                           2.510336   \n",
       "max                     6.023668                           6.146783   \n",
       "\n",
       "             Churn  \n",
       "count  4000.000000  \n",
       "mean      0.265250  \n",
       "std       0.441521  \n",
       "min       0.000000  \n",
       "25%       0.000000  \n",
       "50%       0.000000  \n",
       "75%       1.000000  \n",
       "max       1.000000  "
      ]
     },
     "execution_count": 4,
     "metadata": {},
     "output_type": "execute_result"
    }
   ],
   "source": [
    "gym.describe()"
   ]
  },
  {
   "cell_type": "markdown",
   "metadata": {},
   "source": [
    "The table above , shows the mean and the std values. It is noticed that the mean age of user is 29 years, average additional charges is 146,94 in total. The mean number of users have 4 months till the end of the contract, and 4,68 month -the contract period, 84% lives nearby and 48% have the partner contract."
   ]
  },
  {
   "cell_type": "code",
   "execution_count": 5,
   "metadata": {},
   "outputs": [],
   "source": [
    "gym = gym.rename(columns=str.lower)"
   ]
  },
  {
   "cell_type": "code",
   "execution_count": 6,
   "metadata": {},
   "outputs": [
    {
     "data": {
      "text/html": [
       "<div>\n",
       "<style scoped>\n",
       "    .dataframe tbody tr th:only-of-type {\n",
       "        vertical-align: middle;\n",
       "    }\n",
       "\n",
       "    .dataframe tbody tr th {\n",
       "        vertical-align: top;\n",
       "    }\n",
       "\n",
       "    .dataframe thead th {\n",
       "        text-align: right;\n",
       "    }\n",
       "</style>\n",
       "<table border=\"1\" class=\"dataframe\">\n",
       "  <thead>\n",
       "    <tr style=\"text-align: right;\">\n",
       "      <th></th>\n",
       "      <th>gender</th>\n",
       "      <th>near_location</th>\n",
       "      <th>partner</th>\n",
       "      <th>promo_friends</th>\n",
       "      <th>phone</th>\n",
       "      <th>contract_period</th>\n",
       "      <th>group_visits</th>\n",
       "      <th>age</th>\n",
       "      <th>avg_additional_charges_total</th>\n",
       "      <th>month_to_end_contract</th>\n",
       "      <th>lifetime</th>\n",
       "      <th>avg_class_frequency_total</th>\n",
       "      <th>avg_class_frequency_current_month</th>\n",
       "      <th>churn</th>\n",
       "    </tr>\n",
       "  </thead>\n",
       "  <tbody>\n",
       "  </tbody>\n",
       "</table>\n",
       "</div>"
      ],
      "text/plain": [
       "Empty DataFrame\n",
       "Columns: [gender, near_location, partner, promo_friends, phone, contract_period, group_visits, age, avg_additional_charges_total, month_to_end_contract, lifetime, avg_class_frequency_total, avg_class_frequency_current_month, churn]\n",
       "Index: []"
      ]
     },
     "execution_count": 6,
     "metadata": {},
     "output_type": "execute_result"
    }
   ],
   "source": [
    "gym[gym.duplicated()]"
   ]
  },
  {
   "cell_type": "markdown",
   "metadata": {},
   "source": [
    "There are noo duplicates in our base"
   ]
  },
  {
   "cell_type": "code",
   "execution_count": 7,
   "metadata": {},
   "outputs": [
    {
     "data": {
      "text/html": [
       "<div>\n",
       "<style scoped>\n",
       "    .dataframe tbody tr th:only-of-type {\n",
       "        vertical-align: middle;\n",
       "    }\n",
       "\n",
       "    .dataframe tbody tr th {\n",
       "        vertical-align: top;\n",
       "    }\n",
       "\n",
       "    .dataframe thead th {\n",
       "        text-align: right;\n",
       "    }\n",
       "</style>\n",
       "<table border=\"1\" class=\"dataframe\">\n",
       "  <thead>\n",
       "    <tr style=\"text-align: right;\">\n",
       "      <th></th>\n",
       "      <th>gender</th>\n",
       "      <th>near_location</th>\n",
       "      <th>partner</th>\n",
       "      <th>promo_friends</th>\n",
       "      <th>phone</th>\n",
       "      <th>contract_period</th>\n",
       "      <th>group_visits</th>\n",
       "      <th>age</th>\n",
       "      <th>avg_additional_charges_total</th>\n",
       "      <th>month_to_end_contract</th>\n",
       "      <th>lifetime</th>\n",
       "      <th>avg_class_frequency_total</th>\n",
       "      <th>avg_class_frequency_current_month</th>\n",
       "    </tr>\n",
       "    <tr>\n",
       "      <th>churn</th>\n",
       "      <th></th>\n",
       "      <th></th>\n",
       "      <th></th>\n",
       "      <th></th>\n",
       "      <th></th>\n",
       "      <th></th>\n",
       "      <th></th>\n",
       "      <th></th>\n",
       "      <th></th>\n",
       "      <th></th>\n",
       "      <th></th>\n",
       "      <th></th>\n",
       "      <th></th>\n",
       "    </tr>\n",
       "  </thead>\n",
       "  <tbody>\n",
       "    <tr>\n",
       "      <th>0</th>\n",
       "      <td>0.510037</td>\n",
       "      <td>0.873086</td>\n",
       "      <td>0.534195</td>\n",
       "      <td>0.353522</td>\n",
       "      <td>0.903709</td>\n",
       "      <td>5.747193</td>\n",
       "      <td>0.464103</td>\n",
       "      <td>29.976523</td>\n",
       "      <td>158.445715</td>\n",
       "      <td>5.283089</td>\n",
       "      <td>4.711807</td>\n",
       "      <td>2.024876</td>\n",
       "      <td>2.027882</td>\n",
       "    </tr>\n",
       "    <tr>\n",
       "      <th>1</th>\n",
       "      <td>0.510839</td>\n",
       "      <td>0.768143</td>\n",
       "      <td>0.355325</td>\n",
       "      <td>0.183789</td>\n",
       "      <td>0.902922</td>\n",
       "      <td>1.728558</td>\n",
       "      <td>0.268615</td>\n",
       "      <td>26.989632</td>\n",
       "      <td>115.082899</td>\n",
       "      <td>1.662582</td>\n",
       "      <td>0.990575</td>\n",
       "      <td>1.474995</td>\n",
       "      <td>1.044546</td>\n",
       "    </tr>\n",
       "  </tbody>\n",
       "</table>\n",
       "</div>"
      ],
      "text/plain": [
       "         gender  near_location   partner  promo_friends     phone  \\\n",
       "churn                                                               \n",
       "0      0.510037       0.873086  0.534195       0.353522  0.903709   \n",
       "1      0.510839       0.768143  0.355325       0.183789  0.902922   \n",
       "\n",
       "       contract_period  group_visits        age  avg_additional_charges_total  \\\n",
       "churn                                                                           \n",
       "0             5.747193      0.464103  29.976523                    158.445715   \n",
       "1             1.728558      0.268615  26.989632                    115.082899   \n",
       "\n",
       "       month_to_end_contract  lifetime  avg_class_frequency_total  \\\n",
       "churn                                                               \n",
       "0                   5.283089  4.711807                   2.024876   \n",
       "1                   1.662582  0.990575                   1.474995   \n",
       "\n",
       "       avg_class_frequency_current_month  \n",
       "churn                                     \n",
       "0                               2.027882  \n",
       "1                               1.044546  "
      ]
     },
     "execution_count": 7,
     "metadata": {},
     "output_type": "execute_result"
    }
   ],
   "source": [
    "churn_grouped = gym.groupby('churn').mean()\n",
    "churn_grouped"
   ]
  },
  {
   "cell_type": "markdown",
   "metadata": {},
   "source": [
    "As for mean features regarding churn and non churn users, we can point that the mean for boths men and female are the same. The value of people who live near is more in non churn group, the partner contract and the promo friends also have more non churn users. However the phone number presence doesn't really deffer for both groups, the more the contract period is the more non churn visitors we have there, the ones who spend more on additional charges are more loyal and the quantity of group visits is also impact the rate of churn."
   ]
  },
  {
   "cell_type": "code",
   "execution_count": 8,
   "metadata": {},
   "outputs": [
    {
     "data": {
      "image/png": "[encoded data removed]",
      "text/plain": [
       "<Figure size 576x432 with 1 Axes>"
      ]
     },
     "metadata": {
      "needs_background": "light"
     },
     "output_type": "display_data"
    }
   ],
   "source": [
    "plt.figure(figsize=(8, 6))\n",
    "plt.title('Age distribution for Churn and Non churn clients', fontsize=18)\n",
    "sns.histplot(gym, x='age', hue='churn',palette='GnBu');"
   ]
  },
  {
   "cell_type": "markdown",
   "metadata": {},
   "source": [
    "Let's turn to the histplots that show us the distribution of different features in terms of churn and non churn groups,we see that at the age of 25-30 the number of churned visitors is less."
   ]
  },
  {
   "cell_type": "code",
   "execution_count": 9,
   "metadata": {},
   "outputs": [
    {
     "data": {
      "image/png": "[encoded data removed]",
      "text/plain": [
       "<Figure size 576x432 with 1 Axes>"
      ]
     },
     "metadata": {
      "needs_background": "light"
     },
     "output_type": "display_data"
    }
   ],
   "source": [
    "plt.figure(figsize=(8, 6))\n",
    "plt.title('Gender distribution for Churn and Non churn clients', fontsize=16)\n",
    "sns.histplot(gym, x='gender', hue='churn',palette='Reds');"
   ]
  },
  {
   "cell_type": "markdown",
   "metadata": {},
   "source": [
    "The histogram shows us that the groups are equal and they have the same amount of churn(app. 500) and non churn clients(900)"
   ]
  },
  {
   "cell_type": "code",
   "execution_count": 10,
   "metadata": {},
   "outputs": [
    {
     "data": {
      "image/png": "[encoded data removed]",
      "text/plain": [
       "<Figure size 576x432 with 1 Axes>"
      ]
     },
     "metadata": {
      "needs_background": "light"
     },
     "output_type": "display_data"
    }
   ],
   "source": [
    "plt.figure(figsize=(8, 6))\n",
    "plt.title('Neighborhood distribution for Churn and Non churn clients', fontsize=16)\n",
    "sns.histplot(gym, x='near_location', hue='churn',palette='GnBu');"
   ]
  },
  {
   "cell_type": "markdown",
   "metadata": {},
   "source": [
    "There is remarkable difference between these 2 groups. There is a bigger group of people who a non churn that lives nearby the gym. But also we see that we don't really have a lot of clients that live far. "
   ]
  },
  {
   "cell_type": "code",
   "execution_count": 11,
   "metadata": {},
   "outputs": [
    {
     "data": {
      "image/png": "[encoded data removed]",
      "text/plain": [
       "<Figure size 576x432 with 1 Axes>"
      ]
     },
     "metadata": {
      "needs_background": "light"
     },
     "output_type": "display_data"
    }
   ],
   "source": [
    "plt.figure(figsize=(8, 6))\n",
    "plt.title('Partner company employee distribution for Churn and Non churn clients', fontsize=16)\n",
    "sns.histplot(gym, x='partner', hue='churn',palette='Reds');"
   ]
  },
  {
   "cell_type": "markdown",
   "metadata": {},
   "source": [
    "There are more churn clients that aren't connected to partner company. Yhe amount of churn within the partner company members is much less than than non churn."
   ]
  },
  {
   "cell_type": "code",
   "execution_count": 12,
   "metadata": {
    "scrolled": true
   },
   "outputs": [
    {
     "data": {
      "image/png": "[encoded data removed]",
      "text/plain": [
       "<Figure size 432x360 with 1 Axes>"
      ]
     },
     "metadata": {
      "needs_background": "light"
     },
     "output_type": "display_data"
    }
   ],
   "source": [
    "plt.figure(figsize=(6, 5))\n",
    "plt.title('Promo friends distribution for Churn and Non churn clients', fontsize=16)\n",
    "sns.histplot(gym, x='promo_friends', hue='churn',palette='Purples');"
   ]
  },
  {
   "cell_type": "markdown",
   "metadata": {},
   "source": [
    "Remarkable that the number of promo friends group is much higher than the other one. But the ones who actually came with the promo friends action are more loyal and has a really small quantity of churn clients."
   ]
  },
  {
   "cell_type": "code",
   "execution_count": 13,
   "metadata": {},
   "outputs": [
    {
     "data": {
      "image/png": "[encoded data removed]",
      "text/plain": [
       "<Figure size 576x432 with 1 Axes>"
      ]
     },
     "metadata": {
      "needs_background": "light"
     },
     "output_type": "display_data"
    }
   ],
   "source": [
    "plt.figure(figsize=(8, 6))\n",
    "plt.title('Group_visits distribution for Churn and Non churn clients', fontsize=16)\n",
    "sns.histplot(gym, x='group_visits', hue='churn',palette='Blues');"
   ]
  },
  {
   "cell_type": "markdown",
   "metadata": {},
   "source": [
    "The graph above showes us that the groups that don't attend group visits classes and that do are almost the same, but among the clients who have group visits the churn % is less."
   ]
  },
  {
   "cell_type": "code",
   "execution_count": 14,
   "metadata": {},
   "outputs": [
    {
     "data": {
      "image/png": "[encoded data removed]",
      "text/plain": [
       "<Figure size 576x432 with 1 Axes>"
      ]
     },
     "metadata": {
      "needs_background": "light"
     },
     "output_type": "display_data"
    }
   ],
   "source": [
    "plt.figure(figsize=(8, 6))\n",
    "plt.title('Additional charges distribution for Churn and Non churn clients', fontsize=16)\n",
    "sns.histplot(gym, x='avg_additional_charges_total', hue='churn',palette='Purples');"
   ]
  },
  {
   "cell_type": "markdown",
   "metadata": {},
   "source": [
    "This graph points us that the distibution is the same. However the non churn clients here spend more on the additional charges than the churn group."
   ]
  },
  {
   "cell_type": "code",
   "execution_count": 15,
   "metadata": {},
   "outputs": [
    {
     "data": {
      "image/png": "[encoded data removed]",
      "text/plain": [
       "<Figure size 576x432 with 1 Axes>"
      ]
     },
     "metadata": {
      "needs_background": "light"
     },
     "output_type": "display_data"
    }
   ],
   "source": [
    "plt.figure(figsize=(8, 6))\n",
    "plt.title('Quantity of months to the end distribution for Churn and Non churn clients', fontsize=16)\n",
    "sns.histplot(gym, x='month_to_end_contract', hue='churn',palette='Reds');"
   ]
  },
  {
   "cell_type": "markdown",
   "metadata": {},
   "source": [
    "Most of users have 1 month to the end of the contract, then we have 6 months and 12 month. We see that the less months we have the more churn clients we see here."
   ]
  },
  {
   "cell_type": "code",
   "execution_count": 16,
   "metadata": {},
   "outputs": [
    {
     "data": {
      "image/png": "[encoded data removed]",
      "text/plain": [
       "<Figure size 576x432 with 1 Axes>"
      ]
     },
     "metadata": {
      "needs_background": "light"
     },
     "output_type": "display_data"
    }
   ],
   "source": [
    "plt.figure(figsize=(8, 6))\n",
    "plt.title('Lifetime distribution for Churn and Non churn clients', fontsize=16)\n",
    "sns.histplot(gym, x='lifetime', hue='churn',palette='bwr');"
   ]
  },
  {
   "cell_type": "markdown",
   "metadata": {},
   "source": [
    "The maximum lifetime is concentrated between 3 and 5 months. It is logical that the less lifetime the most churn customers we see here. "
   ]
  },
  {
   "cell_type": "code",
   "execution_count": 17,
   "metadata": {},
   "outputs": [
    {
     "data": {
      "image/png": "[encoded data removed]",
      "text/plain": [
       "<Figure size 576x432 with 1 Axes>"
      ]
     },
     "metadata": {
      "needs_background": "light"
     },
     "output_type": "display_data"
    }
   ],
   "source": [
    "plt.figure(figsize=(8, 6))\n",
    "plt.title('Average frequency of visits overall for Churn and Non churn clients', fontsize=16)\n",
    "sns.histplot(gym, x='avg_class_frequency_total', hue='churn',palette='Greens');"
   ]
  },
  {
   "cell_type": "markdown",
   "metadata": {},
   "source": [
    "The distribution is looking equally and has the same peaks and falls for churn and non churn, the non churn visitors on average visit more often than the churn clients."
   ]
  },
  {
   "cell_type": "code",
   "execution_count": 18,
   "metadata": {},
   "outputs": [
    {
     "data": {
      "image/png": "[encoded data removed]",
      "text/plain": [
       "<Figure size 576x432 with 1 Axes>"
      ]
     },
     "metadata": {
      "needs_background": "light"
     },
     "output_type": "display_data"
    }
   ],
   "source": [
    "plt.figure(figsize=(8, 6))\n",
    "plt.title('Average frequency of visits this month for Churn and Non churn clients', fontsize=16)\n",
    "sns.histplot(gym, x='avg_class_frequency_current_month', hue='churn',palette='Purples');"
   ]
  },
  {
   "cell_type": "markdown",
   "metadata": {},
   "source": [
    "As for the current month we see that the churn clients are screwed to the left, we see that the 200 visitors didn't attend the class this months and they churned. "
   ]
  },
  {
   "cell_type": "code",
   "execution_count": 19,
   "metadata": {},
   "outputs": [
    {
     "data": {
      "image/png": "[encoded data removed]",
      "text/plain": [
       "<Figure size 936x936 with 2 Axes>"
      ]
     },
     "metadata": {
      "needs_background": "light"
     },
     "output_type": "display_data"
    }
   ],
   "source": [
    "corr_m = gym.corr() \n",
    "plt.figure(figsize=(13, 13))\n",
    "plt.title('Correlation matrix', fontsize=18)\n",
    "sns.heatmap(corr_m,square = True, annot = True,cmap=\"coolwarm\",linewidth=1, linecolor='w');"
   ]
  },
  {
   "cell_type": "markdown",
   "metadata": {},
   "source": [
    "Analysing the heatmap we can indicate that the phone and the gender have no impact on the churn rate, as for location, partner and promo friends they do have the positive correlation with the churn and the average class frequency, age and the contract period has the negative correlation. As it was mentioned the phone and gender don't impact the churn, so we can reove these columns from the data for further analysis."
   ]
  },
  {
   "cell_type": "code",
   "execution_count": 20,
   "metadata": {},
   "outputs": [
    {
     "data": {
      "text/html": [
       "<div>\n",
       "<style scoped>\n",
       "    .dataframe tbody tr th:only-of-type {\n",
       "        vertical-align: middle;\n",
       "    }\n",
       "\n",
       "    .dataframe tbody tr th {\n",
       "        vertical-align: top;\n",
       "    }\n",
       "\n",
       "    .dataframe thead th {\n",
       "        text-align: right;\n",
       "    }\n",
       "</style>\n",
       "<table border=\"1\" class=\"dataframe\">\n",
       "  <thead>\n",
       "    <tr style=\"text-align: right;\">\n",
       "      <th></th>\n",
       "      <th>near_location</th>\n",
       "      <th>partner</th>\n",
       "      <th>promo_friends</th>\n",
       "      <th>contract_period</th>\n",
       "      <th>group_visits</th>\n",
       "      <th>age</th>\n",
       "      <th>avg_additional_charges_total</th>\n",
       "      <th>month_to_end_contract</th>\n",
       "      <th>lifetime</th>\n",
       "      <th>avg_class_frequency_total</th>\n",
       "      <th>avg_class_frequency_current_month</th>\n",
       "      <th>churn</th>\n",
       "    </tr>\n",
       "  </thead>\n",
       "  <tbody>\n",
       "    <tr>\n",
       "      <th>0</th>\n",
       "      <td>1</td>\n",
       "      <td>1</td>\n",
       "      <td>1</td>\n",
       "      <td>6</td>\n",
       "      <td>1</td>\n",
       "      <td>29</td>\n",
       "      <td>14.227470</td>\n",
       "      <td>5.0</td>\n",
       "      <td>3</td>\n",
       "      <td>0.020398</td>\n",
       "      <td>0.000000</td>\n",
       "      <td>0</td>\n",
       "    </tr>\n",
       "    <tr>\n",
       "      <th>1</th>\n",
       "      <td>1</td>\n",
       "      <td>0</td>\n",
       "      <td>0</td>\n",
       "      <td>12</td>\n",
       "      <td>1</td>\n",
       "      <td>31</td>\n",
       "      <td>113.202938</td>\n",
       "      <td>12.0</td>\n",
       "      <td>7</td>\n",
       "      <td>1.922936</td>\n",
       "      <td>1.910244</td>\n",
       "      <td>0</td>\n",
       "    </tr>\n",
       "    <tr>\n",
       "      <th>2</th>\n",
       "      <td>1</td>\n",
       "      <td>1</td>\n",
       "      <td>0</td>\n",
       "      <td>1</td>\n",
       "      <td>0</td>\n",
       "      <td>28</td>\n",
       "      <td>129.448479</td>\n",
       "      <td>1.0</td>\n",
       "      <td>2</td>\n",
       "      <td>1.859098</td>\n",
       "      <td>1.736502</td>\n",
       "      <td>0</td>\n",
       "    </tr>\n",
       "    <tr>\n",
       "      <th>3</th>\n",
       "      <td>1</td>\n",
       "      <td>1</td>\n",
       "      <td>1</td>\n",
       "      <td>12</td>\n",
       "      <td>1</td>\n",
       "      <td>33</td>\n",
       "      <td>62.669863</td>\n",
       "      <td>12.0</td>\n",
       "      <td>2</td>\n",
       "      <td>3.205633</td>\n",
       "      <td>3.357215</td>\n",
       "      <td>0</td>\n",
       "    </tr>\n",
       "    <tr>\n",
       "      <th>4</th>\n",
       "      <td>1</td>\n",
       "      <td>1</td>\n",
       "      <td>1</td>\n",
       "      <td>1</td>\n",
       "      <td>0</td>\n",
       "      <td>26</td>\n",
       "      <td>198.362265</td>\n",
       "      <td>1.0</td>\n",
       "      <td>3</td>\n",
       "      <td>1.113884</td>\n",
       "      <td>1.120078</td>\n",
       "      <td>0</td>\n",
       "    </tr>\n",
       "  </tbody>\n",
       "</table>\n",
       "</div>"
      ],
      "text/plain": [
       "   near_location  partner  promo_friends  contract_period  group_visits  age  \\\n",
       "0              1        1              1                6             1   29   \n",
       "1              1        0              0               12             1   31   \n",
       "2              1        1              0                1             0   28   \n",
       "3              1        1              1               12             1   33   \n",
       "4              1        1              1                1             0   26   \n",
       "\n",
       "   avg_additional_charges_total  month_to_end_contract  lifetime  \\\n",
       "0                     14.227470                    5.0         3   \n",
       "1                    113.202938                   12.0         7   \n",
       "2                    129.448479                    1.0         2   \n",
       "3                     62.669863                   12.0         2   \n",
       "4                    198.362265                    1.0         3   \n",
       "\n",
       "   avg_class_frequency_total  avg_class_frequency_current_month  churn  \n",
       "0                   0.020398                           0.000000      0  \n",
       "1                   1.922936                           1.910244      0  \n",
       "2                   1.859098                           1.736502      0  \n",
       "3                   3.205633                           3.357215      0  \n",
       "4                   1.113884                           1.120078      0  "
      ]
     },
     "execution_count": 20,
     "metadata": {},
     "output_type": "execute_result"
    }
   ],
   "source": [
    "gym.drop(gym.columns[[0, 4]], axis = 1, inplace = True)\n",
    "gym.head()"
   ]
  },
  {
   "cell_type": "markdown",
   "metadata": {},
   "source": [
    "### Step . Building a model to predict user churn. Here we are going to use the train_test_split() function to divide the data into train and \"test\" (validation) sets with a ratio of 80 to 20."
   ]
  },
  {
   "cell_type": "code",
   "execution_count": 21,
   "metadata": {},
   "outputs": [],
   "source": [
    "gym = pd.get_dummies(gym)\n",
    "X = gym.drop('churn', axis = 1)\n",
    "y = gym['churn']\n",
    "\n",
    "X_train, X_test, y_train, y_test = train_test_split(X, y, test_size=0.2)"
   ]
  },
  {
   "cell_type": "markdown",
   "metadata": {},
   "source": [
    "Now we are going to train StandardScaler() and apply it to the train matrix of features using the fit_transform() method. After that we should train 2 models on the train set with two methods:\n",
    "\n",
    "- random forest\n",
    "- logistic regression"
   ]
  },
  {
   "cell_type": "code",
   "execution_count": 22,
   "metadata": {},
   "outputs": [
    {
     "name": "stdout",
     "output_type": "stream",
     "text": [
      "Accuracy: 0.94\n",
      "Precision: 0.89\n",
      "Recall: 0.85\n"
     ]
    }
   ],
   "source": [
    "scaler = StandardScaler()\n",
    "scaler.fit(X_train)\n",
    "X_train_st = scaler.transform(X_train)\n",
    "X_test_st = scaler.transform(X_test)\n",
    "rf_model = RandomForestClassifier(n_estimators = 100, random_state = 0)\n",
    "rf_model.fit(X_train_st, y_train)\n",
    "rf_predictions = rf_model.predict(X_test_st) \n",
    "rf_probabilities = rf_model.predict_proba(X_test_st)[:,1]\n",
    "\n",
    "print('Accuracy: {:.2f}'.format(accuracy_score(y_test, rf_predictions)))\n",
    "print('Precision: {:.2f}'.format ( precision_score (y_test, rf_predictions)))\n",
    "print('Recall: {:.2f}'.format(recall_score(y_test, rf_predictions)))\n"
   ]
  },
  {
   "cell_type": "code",
   "execution_count": 23,
   "metadata": {},
   "outputs": [
    {
     "name": "stdout",
     "output_type": "stream",
     "text": [
      "Accuracy: 0.92\n",
      "Precision: 0.89\n",
      "Recall: 0.81\n"
     ]
    },
    {
     "name": "stderr",
     "output_type": "stream",
     "text": [
      "/opt/conda/lib/python3.9/site-packages/sklearn/linear_model/_logistic.py:763: ConvergenceWarning: lbfgs failed to converge (status=1):\n",
      "STOP: TOTAL NO. of ITERATIONS REACHED LIMIT.\n",
      "\n",
      "Increase the number of iterations (max_iter) or scale the data as shown in:\n",
      "    https://scikit-learn.org/stable/modules/preprocessing.html\n",
      "Please also refer to the documentation for alternative solver options:\n",
      "    https://scikit-learn.org/stable/modules/linear_model.html#logistic-regression\n",
      "  n_iter_i = _check_optimize_result(\n"
     ]
    }
   ],
   "source": [
    "scaler = StandardScaler()\n",
    "scaler.fit(X_train)\n",
    "X_train_st = scaler.transform(X_train)\n",
    "X_test_st = scaler.transform(X_test)\n",
    "model = LogisticRegression(random_state = 0)\n",
    "\n",
    "model.fit(X_train, y_train)\n",
    "\n",
    "probabilities = model.predict_proba(X_test)[:,1]\n",
    "\n",
    "\n",
    "predictions = model.predict(X_test)\n",
    "\n",
    "\n",
    "print('Accuracy: {:.2f}'.format(accuracy_score(y_test, predictions)))\n",
    "print('Precision: {:.2f}'.format ( precision_score (y_test, predictions)))\n",
    "print('Recall: {:.2f}'.format(recall_score(y_test, predictions)))"
   ]
  },
  {
   "cell_type": "markdown",
   "metadata": {},
   "source": [
    "As we trained 2 models: we have got the following the results, the accuracy and the precision is the same for both models, the values are very high and are near (1), that means the models are good , the recall is higher (0,86 vs 0.84)in the Random Forest model, that means we can choose this model as the best one."
   ]
  },
  {
   "cell_type": "markdown",
   "metadata": {},
   "source": [
    "### Step 4. User clusters"
   ]
  },
  {
   "cell_type": "code",
   "execution_count": 24,
   "metadata": {},
   "outputs": [],
   "source": [
    "from sklearn.cluster import KMeans"
   ]
  },
  {
   "cell_type": "code",
   "execution_count": 25,
   "metadata": {},
   "outputs": [],
   "source": [
    "sc = StandardScaler()\n",
    "x_sc = sc.fit_transform(gym)\n",
    "linked = linkage(x_sc, method = 'ward') \n",
    "km = KMeans(n_clusters = 5) \n",
    "labels = km.fit_predict(x_sc) \n",
    "gym['cluster_km'] = labels"
   ]
  },
  {
   "cell_type": "code",
   "execution_count": 26,
   "metadata": {},
   "outputs": [
    {
     "data": {
      "image/png": "[encoded data removed]",
      "text/plain": [
       "<Figure size 1080x720 with 1 Axes>"
      ]
     },
     "metadata": {
      "needs_background": "light"
     },
     "output_type": "display_data"
    }
   ],
   "source": [
    "plt.figure(figsize=(15, 10))  \n",
    "dendrogram(linked, orientation='top')\n",
    "plt.title('Hierarchical clustering for GYM')\n",
    "plt.show() "
   ]
  },
  {
   "cell_type": "markdown",
   "metadata": {},
   "source": [
    "Now we have a dendrogramm with 4 hierarchical clusters colored in different colors."
   ]
  },
  {
   "cell_type": "code",
   "execution_count": 27,
   "metadata": {},
   "outputs": [
    {
     "name": "stderr",
     "output_type": "stream",
     "text": [
      "/opt/conda/lib/python3.9/site-packages/seaborn/_decorators.py:36: FutureWarning: Pass the following variables as keyword args: x, y. From version 0.12, the only valid positional argument will be `data`, and passing other arguments without an explicit keyword will result in an error or misinterpretation.\n",
      "  warnings.warn(\n"
     ]
    },
    {
     "data": {
      "image/png": "[encoded data removed]",
      "text/plain": [
       "<Figure size 432x432 with 1 Axes>"
      ]
     },
     "metadata": {
      "needs_background": "light"
     },
     "output_type": "display_data"
    },
    {
     "name": "stderr",
     "output_type": "stream",
     "text": [
      "/opt/conda/lib/python3.9/site-packages/seaborn/_decorators.py:36: FutureWarning: Pass the following variables as keyword args: x, y. From version 0.12, the only valid positional argument will be `data`, and passing other arguments without an explicit keyword will result in an error or misinterpretation.\n",
      "  warnings.warn(\n"
     ]
    },
    {
     "data": {
      "image/png": "[encoded data removed]",
      "text/plain": [
       "<Figure size 432x432 with 1 Axes>"
      ]
     },
     "metadata": {
      "needs_background": "light"
     },
     "output_type": "display_data"
    },
    {
     "name": "stderr",
     "output_type": "stream",
     "text": [
      "/opt/conda/lib/python3.9/site-packages/seaborn/_decorators.py:36: FutureWarning: Pass the following variables as keyword args: x, y. From version 0.12, the only valid positional argument will be `data`, and passing other arguments without an explicit keyword will result in an error or misinterpretation.\n",
      "  warnings.warn(\n"
     ]
    },
    {
     "data": {
      "image/png": "[encoded data removed]",
      "text/plain": [
       "<Figure size 432x432 with 1 Axes>"
      ]
     },
     "metadata": {
      "needs_background": "light"
     },
     "output_type": "display_data"
    },
    {
     "name": "stderr",
     "output_type": "stream",
     "text": [
      "/opt/conda/lib/python3.9/site-packages/seaborn/_decorators.py:36: FutureWarning: Pass the following variables as keyword args: x, y. From version 0.12, the only valid positional argument will be `data`, and passing other arguments without an explicit keyword will result in an error or misinterpretation.\n",
      "  warnings.warn(\n"
     ]
    },
    {
     "data": {
      "image/png": "[encoded data removed]",
      "text/plain": [
       "<Figure size 432x432 with 1 Axes>"
      ]
     },
     "metadata": {
      "needs_background": "light"
     },
     "output_type": "display_data"
    }
   ],
   "source": [
    "def show_clusters_on_plot(df, x_name,y_name, cluster_name):\n",
    "    plt.figure(figsize = (6,6))\n",
    "    sns.scatterplot(df[x_name], df[y_name],\n",
    "          hue = df[cluster_name], palette = 'Paired'\n",
    "       )\n",
    "    plt.title('{} vs {}'.format(x_name, y_name))\n",
    "    plt.show()\n",
    "\n",
    "\n",
    "sc = StandardScaler()\n",
    "x_sc = sc.fit_transform(gym.drop(columns = ['churn']))\n",
    "\n",
    "\n",
    "km = KMeans(n_clusters = 5) \n",
    "labels = km.fit_predict(gym.drop(columns=['churn'])) \n",
    "gym['cluster_km']=labels\n",
    "\n",
    "mean_feat= gym.groupby(['cluster_km']).mean()\n",
    "\n",
    "show_clusters_on_plot(gym, 'near_location','promo_friends', 'cluster_km')\n",
    "show_clusters_on_plot(gym, 'contract_period','lifetime', 'cluster_km')\n",
    "show_clusters_on_plot(gym, 'month_to_end_contract','group_visits', 'cluster_km')\n",
    "show_clusters_on_plot(gym, 'partner','avg_additional_charges_total', 'cluster_km')"
   ]
  },
  {
   "cell_type": "markdown",
   "metadata": {},
   "source": [
    "The mean features show us that the average age is 29, there is no big difference between lifetime=from 3,7 to 4,40, the members of partners company are from 0.49 to 0.51, the average additinal charges are really different, the average contract period is from 4,1 to 5,7 months."
   ]
  },
  {
   "cell_type": "code",
   "execution_count": 28,
   "metadata": {},
   "outputs": [
    {
     "data": {
      "text/html": [
       "<div>\n",
       "<style scoped>\n",
       "    .dataframe tbody tr th:only-of-type {\n",
       "        vertical-align: middle;\n",
       "    }\n",
       "\n",
       "    .dataframe tbody tr th {\n",
       "        vertical-align: top;\n",
       "    }\n",
       "\n",
       "    .dataframe thead th {\n",
       "        text-align: right;\n",
       "    }\n",
       "</style>\n",
       "<table border=\"1\" class=\"dataframe\">\n",
       "  <thead>\n",
       "    <tr style=\"text-align: right;\">\n",
       "      <th></th>\n",
       "      <th>near_location</th>\n",
       "      <th>partner</th>\n",
       "      <th>promo_friends</th>\n",
       "      <th>contract_period</th>\n",
       "      <th>group_visits</th>\n",
       "      <th>age</th>\n",
       "      <th>avg_additional_charges_total</th>\n",
       "      <th>month_to_end_contract</th>\n",
       "      <th>lifetime</th>\n",
       "      <th>avg_class_frequency_total</th>\n",
       "      <th>avg_class_frequency_current_month</th>\n",
       "      <th>churn</th>\n",
       "    </tr>\n",
       "    <tr>\n",
       "      <th>cluster_km</th>\n",
       "      <th></th>\n",
       "      <th></th>\n",
       "      <th></th>\n",
       "      <th></th>\n",
       "      <th></th>\n",
       "      <th></th>\n",
       "      <th></th>\n",
       "      <th></th>\n",
       "      <th></th>\n",
       "      <th></th>\n",
       "      <th></th>\n",
       "      <th></th>\n",
       "    </tr>\n",
       "  </thead>\n",
       "  <tbody>\n",
       "    <tr>\n",
       "      <th>0</th>\n",
       "      <td>0.881020</td>\n",
       "      <td>0.511331</td>\n",
       "      <td>0.347025</td>\n",
       "      <td>5.400850</td>\n",
       "      <td>0.433428</td>\n",
       "      <td>29.344193</td>\n",
       "      <td>250.984767</td>\n",
       "      <td>5.001416</td>\n",
       "      <td>4.169972</td>\n",
       "      <td>1.903480</td>\n",
       "      <td>1.843255</td>\n",
       "      <td>0.178470</td>\n",
       "    </tr>\n",
       "    <tr>\n",
       "      <th>1</th>\n",
       "      <td>0.824782</td>\n",
       "      <td>0.488867</td>\n",
       "      <td>0.293320</td>\n",
       "      <td>4.206196</td>\n",
       "      <td>0.387222</td>\n",
       "      <td>28.906099</td>\n",
       "      <td>35.634787</td>\n",
       "      <td>3.861568</td>\n",
       "      <td>3.392062</td>\n",
       "      <td>1.837965</td>\n",
       "      <td>1.693978</td>\n",
       "      <td>0.349468</td>\n",
       "    </tr>\n",
       "    <tr>\n",
       "      <th>2</th>\n",
       "      <td>0.839494</td>\n",
       "      <td>0.451362</td>\n",
       "      <td>0.280156</td>\n",
       "      <td>4.293774</td>\n",
       "      <td>0.407588</td>\n",
       "      <td>28.976654</td>\n",
       "      <td>105.966990</td>\n",
       "      <td>3.990272</td>\n",
       "      <td>3.546693</td>\n",
       "      <td>1.851364</td>\n",
       "      <td>1.706935</td>\n",
       "      <td>0.334630</td>\n",
       "    </tr>\n",
       "    <tr>\n",
       "      <th>3</th>\n",
       "      <td>0.856089</td>\n",
       "      <td>0.516605</td>\n",
       "      <td>0.332103</td>\n",
       "      <td>5.822878</td>\n",
       "      <td>0.431734</td>\n",
       "      <td>29.845018</td>\n",
       "      <td>356.481960</td>\n",
       "      <td>5.383764</td>\n",
       "      <td>4.420664</td>\n",
       "      <td>2.019260</td>\n",
       "      <td>2.009382</td>\n",
       "      <td>0.044280</td>\n",
       "    </tr>\n",
       "    <tr>\n",
       "      <th>4</th>\n",
       "      <td>0.844075</td>\n",
       "      <td>0.495842</td>\n",
       "      <td>0.320166</td>\n",
       "      <td>4.755717</td>\n",
       "      <td>0.423077</td>\n",
       "      <td>29.401247</td>\n",
       "      <td>174.873445</td>\n",
       "      <td>4.376299</td>\n",
       "      <td>3.749480</td>\n",
       "      <td>1.895200</td>\n",
       "      <td>1.785569</td>\n",
       "      <td>0.226611</td>\n",
       "    </tr>\n",
       "  </tbody>\n",
       "</table>\n",
       "</div>"
      ],
      "text/plain": [
       "            near_location   partner  promo_friends  contract_period  \\\n",
       "cluster_km                                                            \n",
       "0                0.881020  0.511331       0.347025         5.400850   \n",
       "1                0.824782  0.488867       0.293320         4.206196   \n",
       "2                0.839494  0.451362       0.280156         4.293774   \n",
       "3                0.856089  0.516605       0.332103         5.822878   \n",
       "4                0.844075  0.495842       0.320166         4.755717   \n",
       "\n",
       "            group_visits        age  avg_additional_charges_total  \\\n",
       "cluster_km                                                          \n",
       "0               0.433428  29.344193                    250.984767   \n",
       "1               0.387222  28.906099                     35.634787   \n",
       "2               0.407588  28.976654                    105.966990   \n",
       "3               0.431734  29.845018                    356.481960   \n",
       "4               0.423077  29.401247                    174.873445   \n",
       "\n",
       "            month_to_end_contract  lifetime  avg_class_frequency_total  \\\n",
       "cluster_km                                                               \n",
       "0                        5.001416  4.169972                   1.903480   \n",
       "1                        3.861568  3.392062                   1.837965   \n",
       "2                        3.990272  3.546693                   1.851364   \n",
       "3                        5.383764  4.420664                   2.019260   \n",
       "4                        4.376299  3.749480                   1.895200   \n",
       "\n",
       "            avg_class_frequency_current_month     churn  \n",
       "cluster_km                                               \n",
       "0                                    1.843255  0.178470  \n",
       "1                                    1.693978  0.349468  \n",
       "2                                    1.706935  0.334630  \n",
       "3                                    2.009382  0.044280  \n",
       "4                                    1.785569  0.226611  "
      ]
     },
     "execution_count": 28,
     "metadata": {},
     "output_type": "execute_result"
    }
   ],
   "source": [
    "mean_feat"
   ]
  },
  {
   "cell_type": "markdown",
   "metadata": {},
   "source": [
    "The churn rate for each cluster.\n",
    "The average churn rate for different clusters is shown below, this table point us that the most loyal cluster is number 3 (it has the most goup visits, it has 5 months on average to the end of the contract, the avg frequency is the highest here too, the have the most number of group visits and they belong to the partner companies. The second loyal is the first cluster , they have the most promo friends average feature, as the one that is prone to leaving is the second group, the average client here lives not near to the gym, they have less members of partners companies, they don't attend group visits, the additional charges are just 34 and they have the worst average class frequency in total and in this particular month."
   ]
  },
  {
   "cell_type": "code",
   "execution_count": 29,
   "metadata": {},
   "outputs": [
    {
     "data": {
      "text/plain": [
       "cluster_km\n",
       "0    0.178470\n",
       "1    0.349468\n",
       "2    0.334630\n",
       "3    0.044280\n",
       "4    0.226611\n",
       "Name: churn, dtype: float64"
      ]
     },
     "execution_count": 29,
     "metadata": {},
     "output_type": "execute_result"
    }
   ],
   "source": [
    "mean_churn = gym.groupby(['cluster_km'])['churn'].mean()\n",
    "mean_churn.head()"
   ]
  },
  {
   "cell_type": "markdown",
   "metadata": {},
   "source": [
    "Conclusions:\n",
    "We made an analysis of The gym chain \"Model Fitness\". The analisys was made with the base of 4000 rows. It didn't have missing values. The aim was to find out the connection between churn and non churn and the other features. The heatmap showed us that the connection between churn and gender and the phone was the minimum, so these 2 columns were deleted not to use in the future analysis. \n",
    "The next step was the testing of 2 models and the random forrest showed the better results as a model. \n",
    "We made 4 clusters in the database and this devision showed us the portrait of the most loyal group of customers. It turned out that the cluster 3 is the best one and we should focuse on the customers that have the similar characteristics. The most likely client for us leaves nearby, the age is 29-35 years. We should also focuse on the actions for partner companies, we see that the connection to the company increases loyalty, maybe they go to the gym together with the colleagues. We also see the impact of the action to bring a friend, but the impact is not that significant, but we also can use that action to bring more loyal customers."
   ]
  }
 ],
 "metadata": {
  "ExecuteTimeLog": [
   {
    "duration": 1317,
    "start_time": "2022-04-02T11:33:25.014Z"
   },
   {
    "duration": 104,
    "start_time": "2022-04-02T11:34:05.802Z"
   },
   {
    "duration": 33,
    "start_time": "2022-04-02T11:34:16.782Z"
   },
   {
    "duration": 11,
    "start_time": "2022-04-02T11:34:40.429Z"
   },
   {
    "duration": 44,
    "start_time": "2022-04-02T11:34:59.718Z"
   },
   {
    "duration": 1284,
    "start_time": "2022-04-02T12:25:18.112Z"
   },
   {
    "duration": 29,
    "start_time": "2022-04-02T12:25:19.398Z"
   },
   {
    "duration": 13,
    "start_time": "2022-04-02T12:25:19.428Z"
   },
   {
    "duration": 45,
    "start_time": "2022-04-02T12:25:19.443Z"
   },
   {
    "duration": 27,
    "start_time": "2022-04-02T12:26:51.860Z"
   },
   {
    "duration": 94,
    "start_time": "2022-04-02T12:28:58.796Z"
   },
   {
    "duration": 14,
    "start_time": "2022-04-02T12:29:04.877Z"
   },
   {
    "duration": 10,
    "start_time": "2022-04-02T12:30:41.840Z"
   },
   {
    "duration": 11,
    "start_time": "2022-04-02T12:30:42.697Z"
   },
   {
    "duration": 952,
    "start_time": "2022-04-02T12:32:36.422Z"
   },
   {
    "duration": 84,
    "start_time": "2022-04-02T12:32:50.647Z"
   },
   {
    "duration": 8,
    "start_time": "2022-04-02T12:33:01.742Z"
   },
   {
    "duration": 24,
    "start_time": "2022-04-02T12:33:49.465Z"
   },
   {
    "duration": 3,
    "start_time": "2022-04-02T12:34:20.973Z"
   },
   {
    "duration": 17,
    "start_time": "2022-04-02T12:34:22.754Z"
   },
   {
    "duration": 79,
    "start_time": "2022-04-02T12:35:18.204Z"
   },
   {
    "duration": 62,
    "start_time": "2022-04-02T12:35:42.178Z"
   },
   {
    "duration": 11,
    "start_time": "2022-04-02T12:36:21.996Z"
   },
   {
    "duration": 4,
    "start_time": "2022-04-02T12:36:36.523Z"
   },
   {
    "duration": 2,
    "start_time": "2022-04-02T12:36:56.030Z"
   },
   {
    "duration": 4,
    "start_time": "2022-04-02T12:37:04.621Z"
   },
   {
    "duration": 14,
    "start_time": "2022-04-02T12:37:20.964Z"
   },
   {
    "duration": 7,
    "start_time": "2022-04-02T12:37:48.951Z"
   },
   {
    "duration": 15,
    "start_time": "2022-04-02T12:37:55.739Z"
   },
   {
    "duration": 1243,
    "start_time": "2022-04-02T12:55:15.781Z"
   },
   {
    "duration": 35,
    "start_time": "2022-04-02T12:55:17.026Z"
   },
   {
    "duration": 12,
    "start_time": "2022-04-02T12:55:17.063Z"
   },
   {
    "duration": 53,
    "start_time": "2022-04-02T12:55:17.077Z"
   },
   {
    "duration": 4,
    "start_time": "2022-04-02T12:55:17.131Z"
   },
   {
    "duration": 14,
    "start_time": "2022-04-02T12:55:17.137Z"
   },
   {
    "duration": 15,
    "start_time": "2022-04-02T12:55:17.152Z"
   },
   {
    "duration": 1458,
    "start_time": "2022-04-02T12:55:17.168Z"
   },
   {
    "duration": 1372,
    "start_time": "2022-04-02T12:55:29.899Z"
   },
   {
    "duration": 1408,
    "start_time": "2022-04-02T12:55:41.631Z"
   },
   {
    "duration": 1724,
    "start_time": "2022-04-02T12:56:54.242Z"
   },
   {
    "duration": 1720,
    "start_time": "2022-04-02T12:57:02.548Z"
   },
   {
    "duration": 1468,
    "start_time": "2022-04-02T12:57:17.920Z"
   },
   {
    "duration": 1205,
    "start_time": "2022-04-02T13:23:19.412Z"
   },
   {
    "duration": 31,
    "start_time": "2022-04-02T13:23:20.619Z"
   },
   {
    "duration": 12,
    "start_time": "2022-04-02T13:23:20.652Z"
   },
   {
    "duration": 59,
    "start_time": "2022-04-02T13:23:20.666Z"
   },
   {
    "duration": 4,
    "start_time": "2022-04-02T13:23:20.726Z"
   },
   {
    "duration": 13,
    "start_time": "2022-04-02T13:23:20.731Z"
   },
   {
    "duration": 16,
    "start_time": "2022-04-02T13:23:20.745Z"
   },
   {
    "duration": 126,
    "start_time": "2022-04-02T13:23:20.763Z"
   },
   {
    "duration": 0,
    "start_time": "2022-04-02T13:23:20.891Z"
   },
   {
    "duration": 288,
    "start_time": "2022-04-02T13:23:51.271Z"
   },
   {
    "duration": 295,
    "start_time": "2022-04-02T13:24:03.831Z"
   },
   {
    "duration": 304,
    "start_time": "2022-04-02T13:24:39.185Z"
   },
   {
    "duration": 128,
    "start_time": "2022-04-02T13:27:10.451Z"
   },
   {
    "duration": 124,
    "start_time": "2022-04-02T13:27:16.086Z"
   },
   {
    "duration": 331,
    "start_time": "2022-04-02T13:27:31.664Z"
   },
   {
    "duration": 280,
    "start_time": "2022-04-02T13:28:06.917Z"
   },
   {
    "duration": 4,
    "start_time": "2022-04-02T13:30:26.987Z"
   },
   {
    "duration": 287,
    "start_time": "2022-04-02T13:30:28.097Z"
   },
   {
    "duration": 13,
    "start_time": "2022-04-02T13:30:48.277Z"
   },
   {
    "duration": 4,
    "start_time": "2022-04-02T13:31:11.740Z"
   },
   {
    "duration": 15,
    "start_time": "2022-04-02T13:31:12.496Z"
   },
   {
    "duration": 293,
    "start_time": "2022-04-02T13:31:29.391Z"
   },
   {
    "duration": 195,
    "start_time": "2022-04-02T13:32:08.565Z"
   },
   {
    "duration": 188,
    "start_time": "2022-04-02T13:35:45.220Z"
   },
   {
    "duration": 23,
    "start_time": "2022-04-02T13:36:11.939Z"
   },
   {
    "duration": 19,
    "start_time": "2022-04-02T13:36:24.515Z"
   },
   {
    "duration": 19,
    "start_time": "2022-04-02T13:36:42.169Z"
   },
   {
    "duration": 20,
    "start_time": "2022-04-02T13:36:54.177Z"
   },
   {
    "duration": 20,
    "start_time": "2022-04-02T13:37:04.582Z"
   },
   {
    "duration": 199,
    "start_time": "2022-04-02T13:37:18.275Z"
   },
   {
    "duration": 285,
    "start_time": "2022-04-02T13:37:49.050Z"
   },
   {
    "duration": 200,
    "start_time": "2022-04-02T13:41:23.936Z"
   },
   {
    "duration": 199,
    "start_time": "2022-04-02T13:41:29.554Z"
   },
   {
    "duration": 189,
    "start_time": "2022-04-02T13:47:50.982Z"
   },
   {
    "duration": 226,
    "start_time": "2022-04-02T13:48:18.478Z"
   },
   {
    "duration": 198,
    "start_time": "2022-04-02T13:49:49.698Z"
   },
   {
    "duration": 242,
    "start_time": "2022-04-02T14:31:28.781Z"
   },
   {
    "duration": 194,
    "start_time": "2022-04-02T14:32:01.390Z"
   },
   {
    "duration": 213,
    "start_time": "2022-04-02T14:36:02.609Z"
   },
   {
    "duration": 433,
    "start_time": "2022-04-02T14:38:05.715Z"
   },
   {
    "duration": 346,
    "start_time": "2022-04-02T14:38:20.579Z"
   },
   {
    "duration": 331,
    "start_time": "2022-04-02T14:40:37.802Z"
   },
   {
    "duration": 276,
    "start_time": "2022-04-02T14:40:38.135Z"
   },
   {
    "duration": 246,
    "start_time": "2022-04-02T14:40:38.413Z"
   },
   {
    "duration": 274,
    "start_time": "2022-04-02T14:41:02.979Z"
   },
   {
    "duration": 21,
    "start_time": "2022-04-02T14:41:12.476Z"
   },
   {
    "duration": 348,
    "start_time": "2022-04-02T14:41:37.502Z"
   },
   {
    "duration": 245,
    "start_time": "2022-04-02T14:41:44.105Z"
   },
   {
    "duration": 303,
    "start_time": "2022-04-02T14:45:54.396Z"
   },
   {
    "duration": 119,
    "start_time": "2022-04-02T14:46:18.911Z"
   },
   {
    "duration": 441,
    "start_time": "2022-04-02T14:46:39.570Z"
   },
   {
    "duration": 352,
    "start_time": "2022-04-02T14:47:02.285Z"
   },
   {
    "duration": 412,
    "start_time": "2022-04-02T14:47:08.829Z"
   },
   {
    "duration": 321,
    "start_time": "2022-04-02T14:47:14.688Z"
   },
   {
    "duration": 291,
    "start_time": "2022-04-02T14:47:22.121Z"
   },
   {
    "duration": 211,
    "start_time": "2022-04-02T14:47:43.966Z"
   },
   {
    "duration": 213,
    "start_time": "2022-04-02T14:47:58.852Z"
   },
   {
    "duration": 223,
    "start_time": "2022-04-02T14:49:03.405Z"
   },
   {
    "duration": 206,
    "start_time": "2022-04-02T14:49:43.575Z"
   },
   {
    "duration": 216,
    "start_time": "2022-04-02T14:49:50.283Z"
   },
   {
    "duration": 326,
    "start_time": "2022-04-02T14:50:00.587Z"
   },
   {
    "duration": 212,
    "start_time": "2022-04-02T14:50:07.283Z"
   },
   {
    "duration": 4,
    "start_time": "2022-04-02T14:50:17.695Z"
   },
   {
    "duration": 318,
    "start_time": "2022-04-02T14:50:18.199Z"
   },
   {
    "duration": 226,
    "start_time": "2022-04-02T14:50:19.377Z"
   },
   {
    "duration": 212,
    "start_time": "2022-04-02T14:50:20.861Z"
   },
   {
    "duration": 227,
    "start_time": "2022-04-02T14:50:21.983Z"
   },
   {
    "duration": 208,
    "start_time": "2022-04-02T14:50:24.835Z"
   },
   {
    "duration": 214,
    "start_time": "2022-04-02T14:50:32.814Z"
   },
   {
    "duration": 206,
    "start_time": "2022-04-02T14:51:36.829Z"
   },
   {
    "duration": 353,
    "start_time": "2022-04-02T14:57:31.202Z"
   },
   {
    "duration": 231,
    "start_time": "2022-04-02T14:58:08.753Z"
   },
   {
    "duration": 333,
    "start_time": "2022-04-02T14:58:28.914Z"
   },
   {
    "duration": 301,
    "start_time": "2022-04-02T14:59:10.715Z"
   },
   {
    "duration": 279,
    "start_time": "2022-04-02T14:59:34.557Z"
   },
   {
    "duration": 270,
    "start_time": "2022-04-02T14:59:51.587Z"
   },
   {
    "duration": 379,
    "start_time": "2022-04-02T15:00:10.101Z"
   },
   {
    "duration": 1476,
    "start_time": "2022-04-02T15:00:19.329Z"
   },
   {
    "duration": 1438,
    "start_time": "2022-04-02T15:01:01.357Z"
   },
   {
    "duration": 1499,
    "start_time": "2022-04-02T15:01:09.757Z"
   },
   {
    "duration": 1551,
    "start_time": "2022-04-02T15:01:28.783Z"
   },
   {
    "duration": 64,
    "start_time": "2022-04-02T15:04:36.118Z"
   },
   {
    "duration": 17,
    "start_time": "2022-04-02T15:04:58.841Z"
   },
   {
    "duration": 293,
    "start_time": "2022-04-02T15:36:22.390Z"
   },
   {
    "duration": 3,
    "start_time": "2022-04-02T15:36:31.457Z"
   },
   {
    "duration": 1613,
    "start_time": "2022-04-02T15:36:37.105Z"
   },
   {
    "duration": 32,
    "start_time": "2022-04-02T15:36:38.722Z"
   },
   {
    "duration": 13,
    "start_time": "2022-04-02T15:36:38.756Z"
   },
   {
    "duration": 60,
    "start_time": "2022-04-02T15:36:38.772Z"
   },
   {
    "duration": 4,
    "start_time": "2022-04-02T15:36:38.834Z"
   },
   {
    "duration": 16,
    "start_time": "2022-04-02T15:36:38.839Z"
   },
   {
    "duration": 18,
    "start_time": "2022-04-02T15:36:38.857Z"
   },
   {
    "duration": 32,
    "start_time": "2022-04-02T15:36:38.877Z"
   },
   {
    "duration": 366,
    "start_time": "2022-04-02T15:36:38.912Z"
   },
   {
    "duration": 270,
    "start_time": "2022-04-02T15:36:39.280Z"
   },
   {
    "duration": 244,
    "start_time": "2022-04-02T15:36:39.552Z"
   },
   {
    "duration": 268,
    "start_time": "2022-04-02T15:36:39.798Z"
   },
   {
    "duration": 330,
    "start_time": "2022-04-02T15:36:40.068Z"
   },
   {
    "duration": 269,
    "start_time": "2022-04-02T15:36:40.400Z"
   },
   {
    "duration": 310,
    "start_time": "2022-04-02T15:36:40.672Z"
   },
   {
    "duration": 286,
    "start_time": "2022-04-02T15:36:40.983Z"
   },
   {
    "duration": 404,
    "start_time": "2022-04-02T15:36:41.271Z"
   },
   {
    "duration": 376,
    "start_time": "2022-04-02T15:36:41.677Z"
   },
   {
    "duration": 324,
    "start_time": "2022-04-02T15:36:42.054Z"
   },
   {
    "duration": 1801,
    "start_time": "2022-04-02T15:36:42.380Z"
   },
   {
    "duration": 6,
    "start_time": "2022-04-02T15:36:44.183Z"
   },
   {
    "duration": 3030,
    "start_time": "2022-04-02T19:24:02.268Z"
   },
   {
    "duration": 1981,
    "start_time": "2022-04-02T19:24:36.875Z"
   },
   {
    "duration": 46,
    "start_time": "2022-04-02T19:24:38.859Z"
   },
   {
    "duration": 20,
    "start_time": "2022-04-02T19:24:38.907Z"
   },
   {
    "duration": 85,
    "start_time": "2022-04-02T19:24:38.931Z"
   },
   {
    "duration": 5,
    "start_time": "2022-04-02T19:24:39.019Z"
   },
   {
    "duration": 41,
    "start_time": "2022-04-02T19:24:39.027Z"
   },
   {
    "duration": 24,
    "start_time": "2022-04-02T19:24:39.071Z"
   },
   {
    "duration": 5,
    "start_time": "2022-04-02T19:24:39.098Z"
   },
   {
    "duration": 555,
    "start_time": "2022-04-02T19:24:39.105Z"
   },
   {
    "duration": 403,
    "start_time": "2022-04-02T19:24:39.668Z"
   },
   {
    "duration": 372,
    "start_time": "2022-04-02T19:24:40.074Z"
   },
   {
    "duration": 452,
    "start_time": "2022-04-02T19:24:40.449Z"
   },
   {
    "duration": 341,
    "start_time": "2022-04-02T19:24:40.904Z"
   },
   {
    "duration": 355,
    "start_time": "2022-04-02T19:24:41.247Z"
   },
   {
    "duration": 451,
    "start_time": "2022-04-02T19:24:41.605Z"
   },
   {
    "duration": 388,
    "start_time": "2022-04-02T19:24:42.059Z"
   },
   {
    "duration": 563,
    "start_time": "2022-04-02T19:24:42.449Z"
   },
   {
    "duration": 474,
    "start_time": "2022-04-02T19:24:43.015Z"
   },
   {
    "duration": 551,
    "start_time": "2022-04-02T19:24:43.491Z"
   },
   {
    "duration": 2132,
    "start_time": "2022-04-02T19:24:44.044Z"
   },
   {
    "duration": 8,
    "start_time": "2022-04-02T19:24:46.179Z"
   },
   {
    "duration": 902,
    "start_time": "2022-04-02T19:24:46.190Z"
   },
   {
    "duration": 160,
    "start_time": "2022-04-02T19:33:14.016Z"
   },
   {
    "duration": 2084,
    "start_time": "2022-04-02T19:33:22.195Z"
   },
   {
    "duration": 44,
    "start_time": "2022-04-02T19:33:24.283Z"
   },
   {
    "duration": 19,
    "start_time": "2022-04-02T19:33:24.331Z"
   },
   {
    "duration": 64,
    "start_time": "2022-04-02T19:33:24.369Z"
   },
   {
    "duration": 4,
    "start_time": "2022-04-02T19:33:24.436Z"
   },
   {
    "duration": 40,
    "start_time": "2022-04-02T19:33:24.442Z"
   },
   {
    "duration": 22,
    "start_time": "2022-04-02T19:33:24.484Z"
   },
   {
    "duration": 5,
    "start_time": "2022-04-02T19:33:24.508Z"
   },
   {
    "duration": 532,
    "start_time": "2022-04-02T19:33:24.515Z"
   },
   {
    "duration": 358,
    "start_time": "2022-04-02T19:33:25.051Z"
   },
   {
    "duration": 347,
    "start_time": "2022-04-02T19:33:25.411Z"
   },
   {
    "duration": 446,
    "start_time": "2022-04-02T19:33:25.761Z"
   },
   {
    "duration": 338,
    "start_time": "2022-04-02T19:33:26.210Z"
   },
   {
    "duration": 354,
    "start_time": "2022-04-02T19:33:26.551Z"
   },
   {
    "duration": 433,
    "start_time": "2022-04-02T19:33:26.907Z"
   },
   {
    "duration": 503,
    "start_time": "2022-04-02T19:33:27.343Z"
   },
   {
    "duration": 943,
    "start_time": "2022-04-02T19:33:27.849Z"
   },
   {
    "duration": 678,
    "start_time": "2022-04-02T19:33:28.795Z"
   },
   {
    "duration": 843,
    "start_time": "2022-04-02T19:33:29.476Z"
   },
   {
    "duration": 3375,
    "start_time": "2022-04-02T19:33:30.322Z"
   },
   {
    "duration": 12,
    "start_time": "2022-04-02T19:33:33.699Z"
   },
   {
    "duration": 1340,
    "start_time": "2022-04-02T19:33:33.713Z"
   },
   {
    "duration": 624,
    "start_time": "2022-04-02T19:33:35.056Z"
   },
   {
    "duration": 591,
    "start_time": "2022-04-02T19:33:52.187Z"
   },
   {
    "duration": 4,
    "start_time": "2022-04-02T19:35:19.728Z"
   },
   {
    "duration": 466,
    "start_time": "2022-04-02T19:35:20.617Z"
   },
   {
    "duration": 2292,
    "start_time": "2022-04-02T19:35:35.679Z"
   },
   {
    "duration": 59,
    "start_time": "2022-04-02T19:35:37.975Z"
   },
   {
    "duration": 36,
    "start_time": "2022-04-02T19:35:38.036Z"
   },
   {
    "duration": 67,
    "start_time": "2022-04-02T19:35:38.075Z"
   },
   {
    "duration": 23,
    "start_time": "2022-04-02T19:35:38.144Z"
   },
   {
    "duration": 25,
    "start_time": "2022-04-02T19:35:38.170Z"
   },
   {
    "duration": 23,
    "start_time": "2022-04-02T19:35:38.197Z"
   },
   {
    "duration": 5,
    "start_time": "2022-04-02T19:35:38.222Z"
   },
   {
    "duration": 531,
    "start_time": "2022-04-02T19:35:38.229Z"
   },
   {
    "duration": 575,
    "start_time": "2022-04-02T19:35:38.764Z"
   },
   {
    "duration": 340,
    "start_time": "2022-04-02T19:35:39.341Z"
   },
   {
    "duration": 447,
    "start_time": "2022-04-02T19:35:39.684Z"
   },
   {
    "duration": 360,
    "start_time": "2022-04-02T19:35:40.134Z"
   },
   {
    "duration": 564,
    "start_time": "2022-04-02T19:35:40.497Z"
   },
   {
    "duration": 616,
    "start_time": "2022-04-02T19:35:41.067Z"
   },
   {
    "duration": 385,
    "start_time": "2022-04-02T19:35:41.685Z"
   },
   {
    "duration": 567,
    "start_time": "2022-04-02T19:35:42.072Z"
   },
   {
    "duration": 469,
    "start_time": "2022-04-02T19:35:42.642Z"
   },
   {
    "duration": 654,
    "start_time": "2022-04-02T19:35:43.113Z"
   },
   {
    "duration": 2126,
    "start_time": "2022-04-02T19:35:43.770Z"
   },
   {
    "duration": 8,
    "start_time": "2022-04-02T19:35:45.899Z"
   },
   {
    "duration": 967,
    "start_time": "2022-04-02T19:35:45.909Z"
   },
   {
    "duration": 900,
    "start_time": "2022-04-02T19:35:46.878Z"
   },
   {
    "duration": 18,
    "start_time": "2022-04-02T19:36:04.340Z"
   },
   {
    "duration": 5,
    "start_time": "2022-04-02T19:39:40.885Z"
   },
   {
    "duration": 9,
    "start_time": "2022-04-02T19:40:34.535Z"
   },
   {
    "duration": 860,
    "start_time": "2022-04-02T19:40:34.728Z"
   },
   {
    "duration": 1080,
    "start_time": "2022-04-02T19:40:35.591Z"
   },
   {
    "duration": 166,
    "start_time": "2022-04-02T19:42:22.759Z"
   },
   {
    "duration": 6,
    "start_time": "2022-04-02T19:43:16.887Z"
   },
   {
    "duration": 26,
    "start_time": "2022-04-02T19:44:24.861Z"
   },
   {
    "duration": 717,
    "start_time": "2022-04-02T19:45:02.957Z"
   },
   {
    "duration": 723,
    "start_time": "2022-04-02T19:47:00.874Z"
   },
   {
    "duration": 535,
    "start_time": "2022-04-02T19:47:31.944Z"
   },
   {
    "duration": 1061,
    "start_time": "2022-04-02T19:48:18.207Z"
   },
   {
    "duration": 880,
    "start_time": "2022-04-02T19:50:30.193Z"
   },
   {
    "duration": 863,
    "start_time": "2022-04-02T19:51:47.226Z"
   },
   {
    "duration": 18,
    "start_time": "2022-04-02T19:51:51.934Z"
   },
   {
    "duration": 22,
    "start_time": "2022-04-02T19:53:27.933Z"
   },
   {
    "duration": 883,
    "start_time": "2022-04-02T19:55:17.823Z"
   },
   {
    "duration": 891,
    "start_time": "2022-04-02T19:55:55.572Z"
   },
   {
    "duration": 858,
    "start_time": "2022-04-02T19:58:07.517Z"
   },
   {
    "duration": 902,
    "start_time": "2022-04-02T20:00:17.502Z"
   },
   {
    "duration": 1003,
    "start_time": "2022-04-02T20:03:08.038Z"
   },
   {
    "duration": 853,
    "start_time": "2022-04-02T20:03:59.205Z"
   },
   {
    "duration": 907,
    "start_time": "2022-04-02T20:04:11.930Z"
   },
   {
    "duration": 23,
    "start_time": "2022-04-02T20:05:40.441Z"
   },
   {
    "duration": 1006,
    "start_time": "2022-04-02T20:05:52.792Z"
   },
   {
    "duration": 955,
    "start_time": "2022-04-02T20:06:19.315Z"
   },
   {
    "duration": 23,
    "start_time": "2022-04-02T20:08:50.984Z"
   },
   {
    "duration": 1871,
    "start_time": "2022-04-02T20:10:49.731Z"
   },
   {
    "duration": 40,
    "start_time": "2022-04-02T20:10:51.605Z"
   },
   {
    "duration": 24,
    "start_time": "2022-04-02T20:10:51.647Z"
   },
   {
    "duration": 65,
    "start_time": "2022-04-02T20:10:51.673Z"
   },
   {
    "duration": 29,
    "start_time": "2022-04-02T20:10:51.740Z"
   },
   {
    "duration": 21,
    "start_time": "2022-04-02T20:10:51.772Z"
   },
   {
    "duration": 21,
    "start_time": "2022-04-02T20:10:51.795Z"
   },
   {
    "duration": 5,
    "start_time": "2022-04-02T20:10:51.818Z"
   },
   {
    "duration": 524,
    "start_time": "2022-04-02T20:10:51.868Z"
   },
   {
    "duration": 353,
    "start_time": "2022-04-02T20:10:52.395Z"
   },
   {
    "duration": 340,
    "start_time": "2022-04-02T20:10:52.750Z"
   },
   {
    "duration": 463,
    "start_time": "2022-04-02T20:10:53.092Z"
   },
   {
    "duration": 349,
    "start_time": "2022-04-02T20:10:53.557Z"
   },
   {
    "duration": 361,
    "start_time": "2022-04-02T20:10:53.908Z"
   },
   {
    "duration": 443,
    "start_time": "2022-04-02T20:10:54.271Z"
   },
   {
    "duration": 379,
    "start_time": "2022-04-02T20:10:54.716Z"
   },
   {
    "duration": 564,
    "start_time": "2022-04-02T20:10:55.097Z"
   },
   {
    "duration": 758,
    "start_time": "2022-04-02T20:10:55.667Z"
   },
   {
    "duration": 875,
    "start_time": "2022-04-02T20:10:56.428Z"
   },
   {
    "duration": 2962,
    "start_time": "2022-04-02T20:10:57.306Z"
   },
   {
    "duration": 9,
    "start_time": "2022-04-02T20:11:00.271Z"
   },
   {
    "duration": 687,
    "start_time": "2022-04-02T20:11:00.282Z"
   },
   {
    "duration": 0,
    "start_time": "2022-04-02T20:11:00.971Z"
   },
   {
    "duration": 511,
    "start_time": "2022-04-02T20:11:29.745Z"
   },
   {
    "duration": 956,
    "start_time": "2022-04-02T20:11:57.415Z"
   },
   {
    "duration": 523,
    "start_time": "2022-04-02T20:12:05.072Z"
   },
   {
    "duration": 2246,
    "start_time": "2022-04-02T20:12:44.830Z"
   },
   {
    "duration": 48,
    "start_time": "2022-04-03T10:11:17.945Z"
   },
   {
    "duration": 1700,
    "start_time": "2022-04-03T10:11:24.432Z"
   },
   {
    "duration": 37,
    "start_time": "2022-04-03T10:11:26.134Z"
   },
   {
    "duration": 15,
    "start_time": "2022-04-03T10:11:26.172Z"
   },
   {
    "duration": 50,
    "start_time": "2022-04-03T10:11:26.189Z"
   },
   {
    "duration": 4,
    "start_time": "2022-04-03T10:11:26.241Z"
   },
   {
    "duration": 14,
    "start_time": "2022-04-03T10:11:26.247Z"
   },
   {
    "duration": 42,
    "start_time": "2022-04-03T10:11:26.263Z"
   },
   {
    "duration": 3,
    "start_time": "2022-04-03T10:11:26.307Z"
   },
   {
    "duration": 324,
    "start_time": "2022-04-03T10:11:26.312Z"
   },
   {
    "duration": 230,
    "start_time": "2022-04-03T10:11:26.640Z"
   },
   {
    "duration": 216,
    "start_time": "2022-04-03T10:11:26.872Z"
   },
   {
    "duration": 310,
    "start_time": "2022-04-03T10:11:27.091Z"
   },
   {
    "duration": 228,
    "start_time": "2022-04-03T10:11:27.403Z"
   },
   {
    "duration": 233,
    "start_time": "2022-04-03T10:11:27.633Z"
   },
   {
    "duration": 286,
    "start_time": "2022-04-03T10:11:27.868Z"
   },
   {
    "duration": 237,
    "start_time": "2022-04-03T10:11:28.155Z"
   },
   {
    "duration": 350,
    "start_time": "2022-04-03T10:11:28.394Z"
   },
   {
    "duration": 312,
    "start_time": "2022-04-03T10:11:28.746Z"
   },
   {
    "duration": 402,
    "start_time": "2022-04-03T10:11:29.061Z"
   },
   {
    "duration": 1608,
    "start_time": "2022-04-03T10:11:29.466Z"
   },
   {
    "duration": 8,
    "start_time": "2022-04-03T10:11:31.077Z"
   },
   {
    "duration": 491,
    "start_time": "2022-04-03T10:11:31.087Z"
   },
   {
    "duration": 827,
    "start_time": "2022-04-03T10:11:31.579Z"
   },
   {
    "duration": 99,
    "start_time": "2022-04-03T10:11:32.409Z"
   },
   {
    "duration": 4,
    "start_time": "2022-04-03T10:13:53.384Z"
   },
   {
    "duration": 122,
    "start_time": "2022-04-03T10:14:21.036Z"
   },
   {
    "duration": 590,
    "start_time": "2022-04-03T10:14:39.496Z"
   },
   {
    "duration": 1757,
    "start_time": "2022-04-03T10:15:32.201Z"
   },
   {
    "duration": 33,
    "start_time": "2022-04-03T10:15:33.961Z"
   },
   {
    "duration": 15,
    "start_time": "2022-04-03T10:15:33.996Z"
   },
   {
    "duration": 46,
    "start_time": "2022-04-03T10:15:34.014Z"
   },
   {
    "duration": 4,
    "start_time": "2022-04-03T10:15:34.065Z"
   },
   {
    "duration": 36,
    "start_time": "2022-04-03T10:15:34.071Z"
   },
   {
    "duration": 20,
    "start_time": "2022-04-03T10:15:34.109Z"
   },
   {
    "duration": 4,
    "start_time": "2022-04-03T10:15:34.131Z"
   },
   {
    "duration": 351,
    "start_time": "2022-04-03T10:15:34.137Z"
   },
   {
    "duration": 225,
    "start_time": "2022-04-03T10:15:34.490Z"
   },
   {
    "duration": 218,
    "start_time": "2022-04-03T10:15:34.717Z"
   },
   {
    "duration": 318,
    "start_time": "2022-04-03T10:15:34.937Z"
   },
   {
    "duration": 223,
    "start_time": "2022-04-03T10:15:35.257Z"
   },
   {
    "duration": 228,
    "start_time": "2022-04-03T10:15:35.483Z"
   },
   {
    "duration": 297,
    "start_time": "2022-04-03T10:15:35.713Z"
   },
   {
    "duration": 251,
    "start_time": "2022-04-03T10:15:36.012Z"
   },
   {
    "duration": 356,
    "start_time": "2022-04-03T10:15:36.264Z"
   },
   {
    "duration": 300,
    "start_time": "2022-04-03T10:15:36.622Z"
   },
   {
    "duration": 392,
    "start_time": "2022-04-03T10:15:36.923Z"
   },
   {
    "duration": 1424,
    "start_time": "2022-04-03T10:15:37.318Z"
   },
   {
    "duration": 8,
    "start_time": "2022-04-03T10:15:38.743Z"
   },
   {
    "duration": 375,
    "start_time": "2022-04-03T10:15:38.753Z"
   },
   {
    "duration": 778,
    "start_time": "2022-04-03T10:15:39.130Z"
   },
   {
    "duration": 96,
    "start_time": "2022-04-03T10:15:39.910Z"
   },
   {
    "duration": 597,
    "start_time": "2022-04-03T10:15:40.008Z"
   },
   {
    "duration": 564,
    "start_time": "2022-04-03T10:17:24.842Z"
   },
   {
    "duration": 652,
    "start_time": "2022-04-03T10:19:13.205Z"
   },
   {
    "duration": 0,
    "start_time": "2022-04-03T10:19:13.859Z"
   },
   {
    "duration": 21,
    "start_time": "2022-04-03T10:19:18.710Z"
   },
   {
    "duration": 2255,
    "start_time": "2022-04-03T10:19:19.153Z"
   },
   {
    "duration": 68,
    "start_time": "2022-04-03T15:57:56.927Z"
   },
   {
    "duration": 2209,
    "start_time": "2022-04-03T15:58:21.464Z"
   },
   {
    "duration": 115,
    "start_time": "2022-04-03T15:58:38.912Z"
   },
   {
    "duration": 2008,
    "start_time": "2022-04-03T15:58:47.050Z"
   },
   {
    "duration": 56,
    "start_time": "2022-04-03T15:58:49.061Z"
   },
   {
    "duration": 19,
    "start_time": "2022-04-03T15:58:49.120Z"
   },
   {
    "duration": 64,
    "start_time": "2022-04-03T15:58:49.143Z"
   },
   {
    "duration": 4,
    "start_time": "2022-04-03T15:58:49.209Z"
   },
   {
    "duration": 40,
    "start_time": "2022-04-03T15:58:49.215Z"
   },
   {
    "duration": 22,
    "start_time": "2022-04-03T15:58:49.258Z"
   },
   {
    "duration": 5,
    "start_time": "2022-04-03T15:58:49.282Z"
   },
   {
    "duration": 528,
    "start_time": "2022-04-03T15:58:49.289Z"
   },
   {
    "duration": 361,
    "start_time": "2022-04-03T15:58:49.822Z"
   },
   {
    "duration": 331,
    "start_time": "2022-04-03T15:58:50.185Z"
   },
   {
    "duration": 417,
    "start_time": "2022-04-03T15:58:50.518Z"
   },
   {
    "duration": 343,
    "start_time": "2022-04-03T15:58:50.937Z"
   },
   {
    "duration": 349,
    "start_time": "2022-04-03T15:58:51.282Z"
   },
   {
    "duration": 437,
    "start_time": "2022-04-03T15:58:51.633Z"
   },
   {
    "duration": 364,
    "start_time": "2022-04-03T15:58:52.072Z"
   },
   {
    "duration": 551,
    "start_time": "2022-04-03T15:58:52.442Z"
   },
   {
    "duration": 461,
    "start_time": "2022-04-03T15:58:52.996Z"
   },
   {
    "duration": 515,
    "start_time": "2022-04-03T15:58:53.459Z"
   },
   {
    "duration": 2123,
    "start_time": "2022-04-03T15:58:53.976Z"
   },
   {
    "duration": 8,
    "start_time": "2022-04-03T15:58:56.102Z"
   },
   {
    "duration": 506,
    "start_time": "2022-04-03T15:58:56.112Z"
   },
   {
    "duration": 1624,
    "start_time": "2022-04-03T15:58:56.620Z"
   },
   {
    "duration": 111,
    "start_time": "2022-04-03T15:58:58.247Z"
   },
   {
    "duration": 181,
    "start_time": "2022-04-03T15:58:58.361Z"
   },
   {
    "duration": 0,
    "start_time": "2022-04-03T15:58:58.544Z"
   },
   {
    "duration": 20,
    "start_time": "2022-04-03T15:59:30.769Z"
   },
   {
    "duration": 2352,
    "start_time": "2022-04-03T15:59:39.893Z"
   },
   {
    "duration": 157358,
    "start_time": "2022-04-03T16:00:39.292Z"
   },
   {
    "duration": 162709,
    "start_time": "2022-04-03T16:06:37.408Z"
   },
   {
    "duration": 2712,
    "start_time": "2022-04-03T16:11:15.751Z"
   },
   {
    "duration": 173640,
    "start_time": "2022-04-03T16:52:54.186Z"
   },
   {
    "duration": 14,
    "start_time": "2022-04-03T17:02:43.732Z"
   },
   {
    "duration": 11,
    "start_time": "2022-04-03T17:02:46.311Z"
   },
   {
    "duration": 2095,
    "start_time": "2022-04-03T17:03:12.504Z"
   },
   {
    "duration": 46,
    "start_time": "2022-04-03T17:03:14.601Z"
   },
   {
    "duration": 18,
    "start_time": "2022-04-03T17:03:14.649Z"
   },
   {
    "duration": 88,
    "start_time": "2022-04-03T17:03:14.671Z"
   },
   {
    "duration": 5,
    "start_time": "2022-04-03T17:03:14.762Z"
   },
   {
    "duration": 19,
    "start_time": "2022-04-03T17:03:14.769Z"
   },
   {
    "duration": 55,
    "start_time": "2022-04-03T17:03:14.791Z"
   },
   {
    "duration": 4,
    "start_time": "2022-04-03T17:03:14.849Z"
   },
   {
    "duration": 509,
    "start_time": "2022-04-03T17:03:14.856Z"
   },
   {
    "duration": 356,
    "start_time": "2022-04-03T17:03:15.371Z"
   },
   {
    "duration": 342,
    "start_time": "2022-04-03T17:03:15.730Z"
   },
   {
    "duration": 441,
    "start_time": "2022-04-03T17:03:16.074Z"
   },
   {
    "duration": 346,
    "start_time": "2022-04-03T17:03:16.517Z"
   },
   {
    "duration": 347,
    "start_time": "2022-04-03T17:03:16.865Z"
   },
   {
    "duration": 440,
    "start_time": "2022-04-03T17:03:17.214Z"
   },
   {
    "duration": 370,
    "start_time": "2022-04-03T17:03:17.657Z"
   },
   {
    "duration": 577,
    "start_time": "2022-04-03T17:03:18.029Z"
   },
   {
    "duration": 469,
    "start_time": "2022-04-03T17:03:18.608Z"
   },
   {
    "duration": 547,
    "start_time": "2022-04-03T17:03:19.079Z"
   },
   {
    "duration": 2211,
    "start_time": "2022-04-03T17:03:19.628Z"
   },
   {
    "duration": 9,
    "start_time": "2022-04-03T17:03:21.842Z"
   },
   {
    "duration": 530,
    "start_time": "2022-04-03T17:03:21.853Z"
   },
   {
    "duration": 1061,
    "start_time": "2022-04-03T17:03:22.385Z"
   },
   {
    "duration": 130,
    "start_time": "2022-04-03T17:03:23.449Z"
   },
   {
    "duration": 2883,
    "start_time": "2022-04-03T17:03:23.582Z"
   },
   {
    "duration": 0,
    "start_time": "2022-04-03T17:06:05.563Z"
   },
   {
    "duration": 0,
    "start_time": "2022-04-03T17:06:05.565Z"
   },
   {
    "duration": 0,
    "start_time": "2022-04-03T17:06:05.567Z"
   },
   {
    "duration": 0,
    "start_time": "2022-04-03T17:09:46.862Z"
   },
   {
    "duration": 0,
    "start_time": "2022-04-03T17:09:46.865Z"
   },
   {
    "duration": 0,
    "start_time": "2022-04-03T17:09:46.866Z"
   },
   {
    "duration": 2612,
    "start_time": "2022-04-03T17:11:07.554Z"
   },
   {
    "duration": 58,
    "start_time": "2022-04-03T17:11:10.168Z"
   },
   {
    "duration": 21,
    "start_time": "2022-04-03T17:11:10.228Z"
   },
   {
    "duration": 68,
    "start_time": "2022-04-03T17:11:10.252Z"
   },
   {
    "duration": 23,
    "start_time": "2022-04-03T17:11:10.322Z"
   },
   {
    "duration": 21,
    "start_time": "2022-04-03T17:11:10.348Z"
   },
   {
    "duration": 24,
    "start_time": "2022-04-03T17:11:10.372Z"
   },
   {
    "duration": 5,
    "start_time": "2022-04-03T17:11:10.399Z"
   },
   {
    "duration": 518,
    "start_time": "2022-04-03T17:11:10.442Z"
   },
   {
    "duration": 360,
    "start_time": "2022-04-03T17:11:10.964Z"
   },
   {
    "duration": 334,
    "start_time": "2022-04-03T17:11:11.326Z"
   },
   {
    "duration": 445,
    "start_time": "2022-04-03T17:11:11.663Z"
   },
   {
    "duration": 364,
    "start_time": "2022-04-03T17:11:12.110Z"
   },
   {
    "duration": 352,
    "start_time": "2022-04-03T17:11:12.477Z"
   },
   {
    "duration": 722,
    "start_time": "2022-04-03T17:11:12.832Z"
   },
   {
    "duration": 616,
    "start_time": "2022-04-03T17:11:13.557Z"
   },
   {
    "duration": 989,
    "start_time": "2022-04-03T17:11:14.175Z"
   },
   {
    "duration": 780,
    "start_time": "2022-04-03T17:11:15.166Z"
   },
   {
    "duration": 862,
    "start_time": "2022-04-03T17:11:15.949Z"
   },
   {
    "duration": 2101,
    "start_time": "2022-04-03T17:11:16.814Z"
   },
   {
    "duration": 9,
    "start_time": "2022-04-03T17:11:18.918Z"
   },
   {
    "duration": 515,
    "start_time": "2022-04-03T17:11:18.929Z"
   },
   {
    "duration": 1208,
    "start_time": "2022-04-03T17:11:19.446Z"
   },
   {
    "duration": 27,
    "start_time": "2022-04-03T17:11:20.742Z"
   },
   {
    "duration": 2484,
    "start_time": "2022-04-03T17:11:20.772Z"
   },
   {
    "duration": 161435,
    "start_time": "2022-04-03T17:11:23.258Z"
   },
   {
    "duration": 1918,
    "start_time": "2022-04-03T17:14:04.695Z"
   },
   {
    "duration": 0,
    "start_time": "2022-04-03T17:14:06.616Z"
   },
   {
    "duration": 2863,
    "start_time": "2022-04-03T17:15:32.607Z"
   },
   {
    "duration": 2666,
    "start_time": "2022-04-03T17:16:01.631Z"
   },
   {
    "duration": 23,
    "start_time": "2022-04-03T17:16:04.299Z"
   },
   {
    "duration": 18,
    "start_time": "2022-04-03T17:18:23.120Z"
   },
   {
    "duration": 2904,
    "start_time": "2022-04-03T17:18:51.520Z"
   },
   {
    "duration": 3481,
    "start_time": "2022-04-03T17:50:11.739Z"
   },
   {
    "duration": 31,
    "start_time": "2022-04-03T17:50:15.224Z"
   },
   {
    "duration": 2975,
    "start_time": "2022-04-03T17:51:27.380Z"
   },
   {
    "duration": 3112,
    "start_time": "2022-04-03T18:02:44.418Z"
   },
   {
    "duration": 16,
    "start_time": "2022-04-03T18:13:30.079Z"
   },
   {
    "duration": 523,
    "start_time": "2022-04-03T18:13:31.647Z"
   },
   {
    "duration": 925,
    "start_time": "2022-04-03T18:13:32.323Z"
   },
   {
    "duration": 3,
    "start_time": "2022-04-03T18:13:37.357Z"
   },
   {
    "duration": 2857,
    "start_time": "2022-04-03T18:13:38.103Z"
   },
   {
    "duration": 157211,
    "start_time": "2022-04-03T18:13:40.963Z"
   },
   {
    "duration": 2671,
    "start_time": "2022-04-03T18:16:18.176Z"
   },
   {
    "duration": 22,
    "start_time": "2022-04-03T18:16:20.850Z"
   },
   {
    "duration": 628,
    "start_time": "2022-04-03T18:18:01.035Z"
   },
   {
    "duration": 1105,
    "start_time": "2022-04-03T18:18:05.141Z"
   },
   {
    "duration": 2504,
    "start_time": "2022-04-03T18:20:04.540Z"
   },
   {
    "duration": 167025,
    "start_time": "2022-04-03T18:20:08.253Z"
   },
   {
    "duration": 825,
    "start_time": "2022-04-03T18:25:33.355Z"
   },
   {
    "duration": 158054,
    "start_time": "2022-04-03T18:25:34.183Z"
   },
   {
    "duration": 19,
    "start_time": "2022-04-03T18:29:34.850Z"
   },
   {
    "duration": 14,
    "start_time": "2022-04-03T18:29:39.298Z"
   },
   {
    "duration": 531,
    "start_time": "2022-04-03T18:29:39.882Z"
   },
   {
    "duration": 878,
    "start_time": "2022-04-03T18:29:40.574Z"
   },
   {
    "duration": 4,
    "start_time": "2022-04-03T18:29:41.997Z"
   },
   {
    "duration": 770,
    "start_time": "2022-04-03T18:29:42.675Z"
   },
   {
    "duration": 159547,
    "start_time": "2022-04-03T18:29:43.517Z"
   },
   {
    "duration": 2854,
    "start_time": "2022-04-03T18:32:23.067Z"
   },
   {
    "duration": 2212,
    "start_time": "2022-04-03T19:34:04.041Z"
   },
   {
    "duration": 58,
    "start_time": "2022-04-03T19:34:06.256Z"
   },
   {
    "duration": 19,
    "start_time": "2022-04-03T19:34:06.317Z"
   },
   {
    "duration": 71,
    "start_time": "2022-04-03T19:34:06.338Z"
   },
   {
    "duration": 4,
    "start_time": "2022-04-03T19:34:06.412Z"
   },
   {
    "duration": 41,
    "start_time": "2022-04-03T19:34:06.418Z"
   },
   {
    "duration": 24,
    "start_time": "2022-04-03T19:34:06.461Z"
   },
   {
    "duration": 5,
    "start_time": "2022-04-03T19:34:06.487Z"
   },
   {
    "duration": 542,
    "start_time": "2022-04-03T19:34:06.494Z"
   },
   {
    "duration": 360,
    "start_time": "2022-04-03T19:34:07.038Z"
   },
   {
    "duration": 345,
    "start_time": "2022-04-03T19:34:07.400Z"
   },
   {
    "duration": 472,
    "start_time": "2022-04-03T19:34:07.748Z"
   },
   {
    "duration": 358,
    "start_time": "2022-04-03T19:34:08.223Z"
   },
   {
    "duration": 367,
    "start_time": "2022-04-03T19:34:08.585Z"
   },
   {
    "duration": 457,
    "start_time": "2022-04-03T19:34:08.954Z"
   },
   {
    "duration": 401,
    "start_time": "2022-04-03T19:34:09.413Z"
   },
   {
    "duration": 582,
    "start_time": "2022-04-03T19:34:09.816Z"
   },
   {
    "duration": 501,
    "start_time": "2022-04-03T19:34:10.401Z"
   },
   {
    "duration": 557,
    "start_time": "2022-04-03T19:34:10.904Z"
   },
   {
    "duration": 2428,
    "start_time": "2022-04-03T19:34:11.464Z"
   },
   {
    "duration": 21,
    "start_time": "2022-04-03T19:34:13.894Z"
   },
   {
    "duration": 26,
    "start_time": "2022-04-03T19:34:13.917Z"
   },
   {
    "duration": 552,
    "start_time": "2022-04-03T19:34:13.945Z"
   },
   {
    "duration": 1049,
    "start_time": "2022-04-03T19:34:14.499Z"
   },
   {
    "duration": 35,
    "start_time": "2022-04-03T19:34:15.552Z"
   },
   {
    "duration": 1486,
    "start_time": "2022-04-03T19:34:15.589Z"
   },
   {
    "duration": 233488,
    "start_time": "2022-04-03T19:34:17.078Z"
   },
   {
    "duration": 3025,
    "start_time": "2022-04-03T19:38:10.569Z"
   },
   {
    "duration": 25,
    "start_time": "2022-04-03T19:38:13.596Z"
   },
   {
    "duration": 204,
    "start_time": "2022-04-03T19:38:13.623Z"
   },
   {
    "duration": 5,
    "start_time": "2022-04-03T19:38:37.450Z"
   },
   {
    "duration": 6,
    "start_time": "2022-04-03T19:38:56.001Z"
   },
   {
    "duration": 29,
    "start_time": "2022-04-03T19:39:04.695Z"
   },
   {
    "duration": 9,
    "start_time": "2022-04-03T19:39:48.976Z"
   },
   {
    "duration": 76599,
    "start_time": "2022-04-03T19:43:12.750Z"
   },
   {
    "duration": 19,
    "start_time": "2022-04-03T19:47:37.392Z"
   },
   {
    "duration": 14,
    "start_time": "2022-04-03T19:47:39.742Z"
   },
   {
    "duration": 554,
    "start_time": "2022-04-03T19:47:40.562Z"
   },
   {
    "duration": 1020,
    "start_time": "2022-04-03T19:47:41.232Z"
   },
   {
    "duration": 89,
    "start_time": "2022-04-03T19:47:42.255Z"
   },
   {
    "duration": 786,
    "start_time": "2022-04-03T19:47:42.346Z"
   },
   {
    "duration": 155794,
    "start_time": "2022-04-03T19:47:43.134Z"
   },
   {
    "duration": 2988,
    "start_time": "2022-04-03T19:50:18.930Z"
   },
   {
    "duration": 26,
    "start_time": "2022-04-03T19:50:21.922Z"
   },
   {
    "duration": 16,
    "start_time": "2022-04-03T19:50:21.950Z"
   },
   {
    "duration": 18,
    "start_time": "2022-04-03T19:51:15.545Z"
   },
   {
    "duration": 16,
    "start_time": "2022-04-03T19:51:15.565Z"
   },
   {
    "duration": 561,
    "start_time": "2022-04-03T19:51:15.583Z"
   },
   {
    "duration": 1599,
    "start_time": "2022-04-03T19:51:16.147Z"
   },
   {
    "duration": 3,
    "start_time": "2022-04-03T19:51:17.749Z"
   },
   {
    "duration": 812,
    "start_time": "2022-04-03T19:51:17.754Z"
   },
   {
    "duration": 157713,
    "start_time": "2022-04-03T19:51:18.569Z"
   },
   {
    "duration": 5146,
    "start_time": "2022-04-03T19:53:56.285Z"
   },
   {
    "duration": 0,
    "start_time": "2022-04-03T19:54:01.434Z"
   },
   {
    "duration": 0,
    "start_time": "2022-04-03T19:54:01.436Z"
   },
   {
    "duration": 0,
    "start_time": "2022-04-03T19:54:01.439Z"
   },
   {
    "duration": 2257,
    "start_time": "2022-04-03T19:55:16.167Z"
   },
   {
    "duration": 48,
    "start_time": "2022-04-03T19:55:18.427Z"
   },
   {
    "duration": 18,
    "start_time": "2022-04-03T19:55:18.478Z"
   },
   {
    "duration": 81,
    "start_time": "2022-04-03T19:55:18.499Z"
   },
   {
    "duration": 5,
    "start_time": "2022-04-03T19:55:18.582Z"
   },
   {
    "duration": 33,
    "start_time": "2022-04-03T19:55:18.590Z"
   },
   {
    "duration": 36,
    "start_time": "2022-04-03T19:55:18.625Z"
   },
   {
    "duration": 5,
    "start_time": "2022-04-03T19:55:18.664Z"
   },
   {
    "duration": 507,
    "start_time": "2022-04-03T19:55:18.671Z"
   },
   {
    "duration": 345,
    "start_time": "2022-04-03T19:55:19.182Z"
   },
   {
    "duration": 334,
    "start_time": "2022-04-03T19:55:19.529Z"
   },
   {
    "duration": 432,
    "start_time": "2022-04-03T19:55:19.866Z"
   },
   {
    "duration": 345,
    "start_time": "2022-04-03T19:55:20.301Z"
   },
   {
    "duration": 351,
    "start_time": "2022-04-03T19:55:20.648Z"
   },
   {
    "duration": 444,
    "start_time": "2022-04-03T19:55:21.002Z"
   },
   {
    "duration": 368,
    "start_time": "2022-04-03T19:55:21.449Z"
   },
   {
    "duration": 550,
    "start_time": "2022-04-03T19:55:21.820Z"
   },
   {
    "duration": 459,
    "start_time": "2022-04-03T19:55:22.372Z"
   },
   {
    "duration": 526,
    "start_time": "2022-04-03T19:55:22.833Z"
   },
   {
    "duration": 2110,
    "start_time": "2022-04-03T19:55:23.362Z"
   },
   {
    "duration": 18,
    "start_time": "2022-04-03T19:55:25.474Z"
   },
   {
    "duration": 17,
    "start_time": "2022-04-03T19:55:25.495Z"
   },
   {
    "duration": 576,
    "start_time": "2022-04-03T19:55:25.515Z"
   },
   {
    "duration": 856,
    "start_time": "2022-04-03T19:55:26.094Z"
   },
   {
    "duration": 111,
    "start_time": "2022-04-03T19:55:26.957Z"
   },
   {
    "duration": 887,
    "start_time": "2022-04-03T19:55:27.070Z"
   },
   {
    "duration": 173050,
    "start_time": "2022-04-03T19:55:27.959Z"
   },
   {
    "duration": 2791,
    "start_time": "2022-04-03T19:58:21.013Z"
   },
   {
    "duration": 19,
    "start_time": "2022-04-03T19:58:23.806Z"
   },
   {
    "duration": 10,
    "start_time": "2022-04-03T19:58:23.843Z"
   },
   {
    "duration": 71107,
    "start_time": "2022-04-03T19:58:23.854Z"
   },
   {
    "duration": 2488,
    "start_time": "2022-04-03T20:11:26.363Z"
   },
   {
    "duration": 2061,
    "start_time": "2022-04-03T20:13:43.102Z"
   },
   {
    "duration": 48,
    "start_time": "2022-04-03T20:13:45.166Z"
   },
   {
    "duration": 18,
    "start_time": "2022-04-03T20:13:45.216Z"
   },
   {
    "duration": 65,
    "start_time": "2022-04-03T20:13:45.244Z"
   },
   {
    "duration": 5,
    "start_time": "2022-04-03T20:13:45.311Z"
   },
   {
    "duration": 40,
    "start_time": "2022-04-03T20:13:45.318Z"
   },
   {
    "duration": 23,
    "start_time": "2022-04-03T20:13:45.360Z"
   },
   {
    "duration": 559,
    "start_time": "2022-04-03T20:13:45.385Z"
   },
   {
    "duration": 361,
    "start_time": "2022-04-03T20:13:45.947Z"
   },
   {
    "duration": 339,
    "start_time": "2022-04-03T20:13:46.312Z"
   },
   {
    "duration": 452,
    "start_time": "2022-04-03T20:13:46.653Z"
   },
   {
    "duration": 349,
    "start_time": "2022-04-03T20:13:47.107Z"
   },
   {
    "duration": 357,
    "start_time": "2022-04-03T20:13:47.459Z"
   },
   {
    "duration": 443,
    "start_time": "2022-04-03T20:13:47.820Z"
   },
   {
    "duration": 385,
    "start_time": "2022-04-03T20:13:48.266Z"
   },
   {
    "duration": 844,
    "start_time": "2022-04-03T20:13:48.653Z"
   },
   {
    "duration": 732,
    "start_time": "2022-04-03T20:13:49.500Z"
   },
   {
    "duration": 829,
    "start_time": "2022-04-03T20:13:50.235Z"
   },
   {
    "duration": 2532,
    "start_time": "2022-04-03T20:13:51.067Z"
   },
   {
    "duration": 18,
    "start_time": "2022-04-03T20:13:53.602Z"
   },
   {
    "duration": 26,
    "start_time": "2022-04-03T20:13:53.622Z"
   },
   {
    "duration": 576,
    "start_time": "2022-04-03T20:13:53.651Z"
   },
   {
    "duration": 2120,
    "start_time": "2022-04-03T20:13:54.229Z"
   },
   {
    "duration": 32,
    "start_time": "2022-04-03T20:13:56.354Z"
   },
   {
    "duration": 2655,
    "start_time": "2022-04-03T20:13:56.388Z"
   },
   {
    "duration": 157073,
    "start_time": "2022-04-03T20:13:59.046Z"
   },
   {
    "duration": 3302,
    "start_time": "2022-04-03T20:16:36.122Z"
   },
   {
    "duration": 33,
    "start_time": "2022-04-03T20:16:39.430Z"
   },
   {
    "duration": 10,
    "start_time": "2022-04-03T20:16:39.466Z"
   },
   {
    "duration": 78541,
    "start_time": "2022-04-03T20:16:39.479Z"
   },
   {
    "duration": 3112,
    "start_time": "2022-04-03T20:18:38.632Z"
   },
   {
    "duration": 161427,
    "start_time": "2022-04-03T20:18:43.359Z"
   },
   {
    "duration": 3717,
    "start_time": "2022-04-03T20:21:41.781Z"
   },
   {
    "duration": 20,
    "start_time": "2022-04-03T20:21:45.501Z"
   },
   {
    "duration": 3135,
    "start_time": "2022-04-03T20:22:05.540Z"
   },
   {
    "duration": 2902,
    "start_time": "2022-04-03T20:22:51.092Z"
   },
   {
    "duration": 18,
    "start_time": "2022-04-03T20:22:53.997Z"
   },
   {
    "duration": 10,
    "start_time": "2022-04-03T20:22:57.014Z"
   },
   {
    "duration": 72671,
    "start_time": "2022-04-03T20:22:58.273Z"
   },
   {
    "duration": 2976,
    "start_time": "2022-04-03T20:26:11.190Z"
   },
   {
    "duration": 3024,
    "start_time": "2022-04-03T20:27:12.828Z"
   },
   {
    "duration": 2631,
    "start_time": "2022-04-03T20:27:55.545Z"
   },
   {
    "duration": 2035,
    "start_time": "2022-04-03T21:24:04.267Z"
   },
   {
    "duration": 1898,
    "start_time": "2022-04-03T21:24:15.144Z"
   },
   {
    "duration": 2191,
    "start_time": "2022-04-03T21:24:46.368Z"
   },
   {
    "duration": 46,
    "start_time": "2022-04-03T21:24:48.562Z"
   },
   {
    "duration": 19,
    "start_time": "2022-04-03T21:24:48.610Z"
   },
   {
    "duration": 64,
    "start_time": "2022-04-03T21:24:48.642Z"
   },
   {
    "duration": 4,
    "start_time": "2022-04-03T21:24:48.709Z"
   },
   {
    "duration": 42,
    "start_time": "2022-04-03T21:24:48.715Z"
   },
   {
    "duration": 23,
    "start_time": "2022-04-03T21:24:48.759Z"
   },
   {
    "duration": 513,
    "start_time": "2022-04-03T21:24:48.785Z"
   },
   {
    "duration": 332,
    "start_time": "2022-04-03T21:24:49.301Z"
   },
   {
    "duration": 331,
    "start_time": "2022-04-03T21:24:49.637Z"
   },
   {
    "duration": 436,
    "start_time": "2022-04-03T21:24:49.970Z"
   },
   {
    "duration": 339,
    "start_time": "2022-04-03T21:24:50.408Z"
   },
   {
    "duration": 339,
    "start_time": "2022-04-03T21:24:50.749Z"
   },
   {
    "duration": 437,
    "start_time": "2022-04-03T21:24:51.091Z"
   },
   {
    "duration": 363,
    "start_time": "2022-04-03T21:24:51.530Z"
   },
   {
    "duration": 550,
    "start_time": "2022-04-03T21:24:51.897Z"
   },
   {
    "duration": 461,
    "start_time": "2022-04-03T21:24:52.450Z"
   },
   {
    "duration": 531,
    "start_time": "2022-04-03T21:24:52.914Z"
   },
   {
    "duration": 1995,
    "start_time": "2022-04-03T21:24:53.448Z"
   },
   {
    "duration": 18,
    "start_time": "2022-04-03T21:24:55.446Z"
   },
   {
    "duration": 14,
    "start_time": "2022-04-03T21:24:55.466Z"
   },
   {
    "duration": 532,
    "start_time": "2022-04-03T21:24:55.482Z"
   },
   {
    "duration": 1228,
    "start_time": "2022-04-03T21:24:56.016Z"
   },
   {
    "duration": 35,
    "start_time": "2022-04-03T21:24:57.246Z"
   },
   {
    "duration": 2458,
    "start_time": "2022-04-03T21:24:57.284Z"
   },
   {
    "duration": 2060,
    "start_time": "2022-04-03T21:26:23.968Z"
   },
   {
    "duration": 47,
    "start_time": "2022-04-03T21:26:26.030Z"
   },
   {
    "duration": 19,
    "start_time": "2022-04-03T21:26:26.079Z"
   },
   {
    "duration": 79,
    "start_time": "2022-04-03T21:26:26.100Z"
   },
   {
    "duration": 5,
    "start_time": "2022-04-03T21:26:26.181Z"
   },
   {
    "duration": 24,
    "start_time": "2022-04-03T21:26:26.188Z"
   },
   {
    "duration": 43,
    "start_time": "2022-04-03T21:26:26.213Z"
   },
   {
    "duration": 494,
    "start_time": "2022-04-03T21:26:26.258Z"
   },
   {
    "duration": 340,
    "start_time": "2022-04-03T21:26:26.754Z"
   },
   {
    "duration": 327,
    "start_time": "2022-04-03T21:26:27.098Z"
   },
   {
    "duration": 426,
    "start_time": "2022-04-03T21:26:27.427Z"
   },
   {
    "duration": 331,
    "start_time": "2022-04-03T21:26:27.856Z"
   },
   {
    "duration": 340,
    "start_time": "2022-04-03T21:26:28.190Z"
   },
   {
    "duration": 428,
    "start_time": "2022-04-03T21:26:28.533Z"
   },
   {
    "duration": 366,
    "start_time": "2022-04-03T21:26:28.964Z"
   },
   {
    "duration": 542,
    "start_time": "2022-04-03T21:26:29.333Z"
   },
   {
    "duration": 459,
    "start_time": "2022-04-03T21:26:29.877Z"
   },
   {
    "duration": 548,
    "start_time": "2022-04-03T21:26:30.338Z"
   },
   {
    "duration": 2076,
    "start_time": "2022-04-03T21:26:30.888Z"
   },
   {
    "duration": 18,
    "start_time": "2022-04-03T21:26:32.966Z"
   },
   {
    "duration": 14,
    "start_time": "2022-04-03T21:26:32.986Z"
   },
   {
    "duration": 541,
    "start_time": "2022-04-03T21:26:33.002Z"
   },
   {
    "duration": 1099,
    "start_time": "2022-04-03T21:26:33.545Z"
   },
   {
    "duration": 25,
    "start_time": "2022-04-03T21:26:34.646Z"
   },
   {
    "duration": 2575,
    "start_time": "2022-04-03T21:26:34.673Z"
   },
   {
    "duration": 152207,
    "start_time": "2022-04-03T21:26:37.251Z"
   },
   {
    "duration": 3021,
    "start_time": "2022-04-03T21:29:09.462Z"
   },
   {
    "duration": 30,
    "start_time": "2022-04-03T21:29:12.490Z"
   },
   {
    "duration": 27,
    "start_time": "2022-04-03T21:29:12.523Z"
   },
   {
    "duration": 2719,
    "start_time": "2022-04-03T21:29:12.552Z"
   },
   {
    "duration": 67,
    "start_time": "2022-04-04T05:32:13.424Z"
   },
   {
    "duration": 2106,
    "start_time": "2022-04-04T05:32:23.655Z"
   },
   {
    "duration": 76,
    "start_time": "2022-04-04T05:32:25.764Z"
   },
   {
    "duration": 27,
    "start_time": "2022-04-04T05:32:25.843Z"
   },
   {
    "duration": 71,
    "start_time": "2022-04-04T05:32:25.874Z"
   },
   {
    "duration": 5,
    "start_time": "2022-04-04T05:32:25.948Z"
   },
   {
    "duration": 40,
    "start_time": "2022-04-04T05:32:25.955Z"
   },
   {
    "duration": 20,
    "start_time": "2022-04-04T05:32:25.997Z"
   },
   {
    "duration": 482,
    "start_time": "2022-04-04T05:32:26.019Z"
   },
   {
    "duration": 334,
    "start_time": "2022-04-04T05:32:26.504Z"
   },
   {
    "duration": 349,
    "start_time": "2022-04-04T05:32:26.842Z"
   },
   {
    "duration": 425,
    "start_time": "2022-04-04T05:32:27.194Z"
   },
   {
    "duration": 395,
    "start_time": "2022-04-04T05:32:27.621Z"
   },
   {
    "duration": 381,
    "start_time": "2022-04-04T05:32:28.019Z"
   },
   {
    "duration": 424,
    "start_time": "2022-04-04T05:32:28.402Z"
   },
   {
    "duration": 378,
    "start_time": "2022-04-04T05:32:28.828Z"
   },
   {
    "duration": 540,
    "start_time": "2022-04-04T05:32:29.208Z"
   },
   {
    "duration": 535,
    "start_time": "2022-04-04T05:32:29.750Z"
   },
   {
    "duration": 527,
    "start_time": "2022-04-04T05:32:30.288Z"
   },
   {
    "duration": 2057,
    "start_time": "2022-04-04T05:32:30.818Z"
   },
   {
    "duration": 20,
    "start_time": "2022-04-04T05:32:32.878Z"
   },
   {
    "duration": 13,
    "start_time": "2022-04-04T05:32:32.900Z"
   },
   {
    "duration": 547,
    "start_time": "2022-04-04T05:32:32.915Z"
   },
   {
    "duration": 1019,
    "start_time": "2022-04-04T05:32:33.465Z"
   },
   {
    "duration": 28,
    "start_time": "2022-04-04T05:32:34.487Z"
   },
   {
    "duration": 2666,
    "start_time": "2022-04-04T05:32:34.517Z"
   },
   {
    "duration": 144808,
    "start_time": "2022-04-04T05:32:37.185Z"
   },
   {
    "duration": 2750,
    "start_time": "2022-04-04T05:35:01.995Z"
   },
   {
    "duration": 34,
    "start_time": "2022-04-04T05:35:04.750Z"
   },
   {
    "duration": 11,
    "start_time": "2022-04-04T05:35:04.786Z"
   },
   {
    "duration": 2568,
    "start_time": "2022-04-04T05:35:04.799Z"
   },
   {
    "duration": 1953,
    "start_time": "2022-04-04T06:07:56.642Z"
   },
   {
    "duration": 43,
    "start_time": "2022-04-04T06:07:58.598Z"
   },
   {
    "duration": 18,
    "start_time": "2022-04-04T06:07:58.643Z"
   },
   {
    "duration": 72,
    "start_time": "2022-04-04T06:07:58.664Z"
   },
   {
    "duration": 5,
    "start_time": "2022-04-04T06:07:58.738Z"
   },
   {
    "duration": 44,
    "start_time": "2022-04-04T06:07:58.746Z"
   },
   {
    "duration": 24,
    "start_time": "2022-04-04T06:07:58.792Z"
   },
   {
    "duration": 511,
    "start_time": "2022-04-04T06:07:58.818Z"
   },
   {
    "duration": 333,
    "start_time": "2022-04-04T06:07:59.332Z"
   },
   {
    "duration": 317,
    "start_time": "2022-04-04T06:07:59.669Z"
   },
   {
    "duration": 426,
    "start_time": "2022-04-04T06:07:59.988Z"
   },
   {
    "duration": 368,
    "start_time": "2022-04-04T06:08:00.417Z"
   },
   {
    "duration": 357,
    "start_time": "2022-04-04T06:08:00.787Z"
   },
   {
    "duration": 439,
    "start_time": "2022-04-04T06:08:01.147Z"
   },
   {
    "duration": 370,
    "start_time": "2022-04-04T06:08:01.588Z"
   },
   {
    "duration": 531,
    "start_time": "2022-04-04T06:08:01.960Z"
   },
   {
    "duration": 445,
    "start_time": "2022-04-04T06:08:02.493Z"
   },
   {
    "duration": 512,
    "start_time": "2022-04-04T06:08:02.940Z"
   },
   {
    "duration": 1981,
    "start_time": "2022-04-04T06:08:03.454Z"
   },
   {
    "duration": 18,
    "start_time": "2022-04-04T06:08:05.437Z"
   },
   {
    "duration": 14,
    "start_time": "2022-04-04T06:08:05.457Z"
   },
   {
    "duration": 498,
    "start_time": "2022-04-04T06:08:05.473Z"
   },
   {
    "duration": 1113,
    "start_time": "2022-04-04T06:08:05.974Z"
   },
   {
    "duration": 100,
    "start_time": "2022-04-04T06:08:07.089Z"
   },
   {
    "duration": 2598,
    "start_time": "2022-04-04T06:08:07.192Z"
   },
   {
    "duration": 146137,
    "start_time": "2022-04-04T06:08:09.793Z"
   },
   {
    "duration": 2681,
    "start_time": "2022-04-04T06:10:35.933Z"
   },
   {
    "duration": 19,
    "start_time": "2022-04-04T06:10:38.619Z"
   },
   {
    "duration": 10,
    "start_time": "2022-04-04T06:10:38.640Z"
   },
   {
    "duration": 2478,
    "start_time": "2022-04-04T06:10:38.653Z"
   },
   {
    "duration": 362,
    "start_time": "2022-04-04T06:10:41.133Z"
   },
   {
    "duration": 320,
    "start_time": "2022-04-04T06:11:36.418Z"
   },
   {
    "duration": 321,
    "start_time": "2022-04-04T06:13:03.977Z"
   },
   {
    "duration": 325,
    "start_time": "2022-04-04T06:13:16.146Z"
   },
   {
    "duration": 536,
    "start_time": "2022-04-04T07:58:01.364Z"
   },
   {
    "duration": 1917,
    "start_time": "2022-04-04T07:58:02.871Z"
   },
   {
    "duration": 2722,
    "start_time": "2022-04-04T07:58:32.278Z"
   },
   {
    "duration": 56,
    "start_time": "2022-04-04T07:58:35.004Z"
   },
   {
    "duration": 27,
    "start_time": "2022-04-04T07:58:35.063Z"
   },
   {
    "duration": 91,
    "start_time": "2022-04-04T07:58:35.093Z"
   },
   {
    "duration": 5,
    "start_time": "2022-04-04T07:58:35.187Z"
   },
   {
    "duration": 22,
    "start_time": "2022-04-04T07:58:35.194Z"
   },
   {
    "duration": 24,
    "start_time": "2022-04-04T07:58:35.219Z"
   },
   {
    "duration": 547,
    "start_time": "2022-04-04T07:58:35.245Z"
   },
   {
    "duration": 367,
    "start_time": "2022-04-04T07:58:35.794Z"
   },
   {
    "duration": 497,
    "start_time": "2022-04-04T07:58:36.167Z"
   },
   {
    "duration": 667,
    "start_time": "2022-04-04T07:58:36.666Z"
   },
   {
    "duration": 632,
    "start_time": "2022-04-04T07:58:37.337Z"
   },
   {
    "duration": 484,
    "start_time": "2022-04-04T07:58:37.972Z"
   },
   {
    "duration": 709,
    "start_time": "2022-04-04T07:58:38.459Z"
   },
   {
    "duration": 388,
    "start_time": "2022-04-04T07:58:39.172Z"
   },
   {
    "duration": 562,
    "start_time": "2022-04-04T07:58:39.562Z"
   },
   {
    "duration": 704,
    "start_time": "2022-04-04T07:58:40.126Z"
   },
   {
    "duration": 718,
    "start_time": "2022-04-04T07:58:40.834Z"
   },
   {
    "duration": 2991,
    "start_time": "2022-04-04T07:58:41.556Z"
   },
   {
    "duration": 26,
    "start_time": "2022-04-04T07:58:44.550Z"
   },
   {
    "duration": 18,
    "start_time": "2022-04-04T07:58:44.578Z"
   },
   {
    "duration": 537,
    "start_time": "2022-04-04T07:58:44.599Z"
   },
   {
    "duration": 746,
    "start_time": "2022-04-04T07:58:45.138Z"
   },
   {
    "duration": 109,
    "start_time": "2022-04-04T07:58:45.887Z"
   },
   {
    "duration": 3195,
    "start_time": "2022-04-04T07:58:46.000Z"
   },
   {
    "duration": 183012,
    "start_time": "2022-04-04T07:58:49.198Z"
   },
   {
    "duration": 3719,
    "start_time": "2022-04-04T08:01:52.213Z"
   },
   {
    "duration": 43,
    "start_time": "2022-04-04T08:01:55.939Z"
   },
   {
    "duration": 11,
    "start_time": "2022-04-04T08:01:55.985Z"
   },
   {
    "duration": 2783,
    "start_time": "2022-04-04T08:01:55.999Z"
   },
   {
    "duration": 747,
    "start_time": "2022-04-04T08:01:58.785Z"
   },
   {
    "duration": 541,
    "start_time": "2022-04-04T08:04:37.461Z"
   },
   {
    "duration": 3,
    "start_time": "2022-04-04T10:04:24.662Z"
   },
   {
    "duration": 39,
    "start_time": "2022-04-04T10:04:35.307Z"
   },
   {
    "duration": 18,
    "start_time": "2022-04-04T10:04:35.844Z"
   },
   {
    "duration": 19,
    "start_time": "2022-04-04T11:19:50.718Z"
   },
   {
    "duration": 167,
    "start_time": "2022-04-04T11:24:41.974Z"
   },
   {
    "duration": 22,
    "start_time": "2022-04-04T11:25:08.200Z"
   },
   {
    "duration": 1904,
    "start_time": "2022-04-04T11:25:53.187Z"
   },
   {
    "duration": 39,
    "start_time": "2022-04-04T11:25:55.094Z"
   },
   {
    "duration": 18,
    "start_time": "2022-04-04T11:25:55.135Z"
   },
   {
    "duration": 83,
    "start_time": "2022-04-04T11:25:55.156Z"
   },
   {
    "duration": 4,
    "start_time": "2022-04-04T11:25:55.241Z"
   },
   {
    "duration": 39,
    "start_time": "2022-04-04T11:25:55.249Z"
   },
   {
    "duration": 24,
    "start_time": "2022-04-04T11:25:55.291Z"
   },
   {
    "duration": 523,
    "start_time": "2022-04-04T11:25:55.317Z"
   },
   {
    "duration": 356,
    "start_time": "2022-04-04T11:25:55.843Z"
   },
   {
    "duration": 380,
    "start_time": "2022-04-04T11:25:56.205Z"
   },
   {
    "duration": 439,
    "start_time": "2022-04-04T11:25:56.588Z"
   },
   {
    "duration": 340,
    "start_time": "2022-04-04T11:25:57.030Z"
   },
   {
    "duration": 342,
    "start_time": "2022-04-04T11:25:57.372Z"
   },
   {
    "duration": 435,
    "start_time": "2022-04-04T11:25:57.716Z"
   },
   {
    "duration": 363,
    "start_time": "2022-04-04T11:25:58.153Z"
   },
   {
    "duration": 558,
    "start_time": "2022-04-04T11:25:58.518Z"
   },
   {
    "duration": 471,
    "start_time": "2022-04-04T11:25:59.082Z"
   },
   {
    "duration": 530,
    "start_time": "2022-04-04T11:25:59.556Z"
   },
   {
    "duration": 2032,
    "start_time": "2022-04-04T11:26:00.088Z"
   },
   {
    "duration": 19,
    "start_time": "2022-04-04T11:26:02.122Z"
   },
   {
    "duration": 29,
    "start_time": "2022-04-04T11:26:02.143Z"
   },
   {
    "duration": 508,
    "start_time": "2022-04-04T11:26:02.175Z"
   },
   {
    "duration": 908,
    "start_time": "2022-04-04T11:26:02.686Z"
   },
   {
    "duration": 104,
    "start_time": "2022-04-04T11:26:03.597Z"
   },
   {
    "duration": 2584,
    "start_time": "2022-04-04T11:26:03.703Z"
   },
   {
    "duration": 148996,
    "start_time": "2022-04-04T11:26:06.289Z"
   },
   {
    "duration": 3947,
    "start_time": "2022-04-04T11:28:35.288Z"
   },
   {
    "duration": 20,
    "start_time": "2022-04-04T11:28:39.240Z"
   },
   {
    "duration": 24,
    "start_time": "2022-04-04T11:28:39.263Z"
   }
  ],
  "kernelspec": {
   "display_name": "Python 3 (ipykernel)",
   "language": "python",
   "name": "python3"
  },
  "language_info": {
   "codemirror_mode": {
    "name": "ipython",
    "version": 3
   },
   "file_extension": ".py",
   "mimetype": "text/x-python",
   "name": "python",
   "nbconvert_exporter": "python",
   "pygments_lexer": "ipython3",
   "version": "3.9.5"
  },
  "toc": {
   "base_numbering": 1,
   "nav_menu": {},
   "number_sections": true,
   "sideBar": true,
   "skip_h1_title": true,
   "title_cell": "Table of Contents",
   "title_sidebar": "Contents",
   "toc_cell": false,
   "toc_position": {},
   "toc_section_display": true,
   "toc_window_display": false
  }
 },
 "nbformat": 4,
 "nbformat_minor": 2
}
